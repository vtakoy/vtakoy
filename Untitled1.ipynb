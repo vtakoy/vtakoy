{
  "nbformat": 4,
  "nbformat_minor": 0,
  "metadata": {
    "colab": {
      "provenance": [],
      "toc_visible": true,
      "authorship_tag": "ABX9TyMw3Md/o/xoz84PgL3jGvEa",
      "include_colab_link": true
    },
    "kernelspec": {
      "name": "python3",
      "display_name": "Python 3"
    },
    "language_info": {
      "name": "python"
    }
  },
  "cells": [
    {
      "cell_type": "markdown",
      "metadata": {
        "id": "view-in-github",
        "colab_type": "text"
      },
      "source": [
        "<a href=\"https://colab.research.google.com/github/vtakoy/vtakoy/blob/main/Untitled1.ipynb\" target=\"_parent\"><img src=\"https://colab.research.google.com/assets/colab-badge.svg\" alt=\"Open In Colab\"/></a>"
      ]
    },
    {
      "cell_type": "code",
      "execution_count": null,
      "metadata": {
        "id": "DwHy6RyDt9AJ"
      },
      "outputs": [],
      "source": [
        "# Установка необходимых библиотек\n",
        "!pip install git+https://github.com/lenarsaitov/cianparser.git\n",
        "!pip install pandas openpyxl\n",
        "\n",
        "# Импорт необходимых модулей\n",
        "import cianparser\n",
        "import pandas as pd\n",
        "import sqlite3\n",
        "\n",
        "# Шаг 1 - Сбор данных с cian.ru\n",
        "def fetch_data(pages=50):\n",
        "    parser = cianparser.CianParser(location=\"Москва\")\n",
        "    data = parser.get_flats(deal_type=\"sale\", rooms=(1, 2, 3, 4, 5), with_saving_csv=False, additional_settings={\"start_page\":1, \"end_page\":pages})\n",
        "    return data\n",
        "\n",
        "# Шаг 2 - Преобразование данных в pandas DataFrame\n",
        "def create_dataframe(data):\n",
        "    df = pd.DataFrame(data)\n",
        "    return df\n",
        "\n",
        "# Шаг 3 - Сохранение данных в различные форматы\n",
        "def save_data(df):\n",
        "    # Сохранение в CSV\n",
        "    df.to_csv('real_estate_data.csv', index=False)\n",
        "    print(\"Data saved to real_estate_data.csv\")\n",
        "\n",
        "    # Сохранение в Excel\n",
        "    df.to_excel('real_estate_data.xlsx', index=False)\n",
        "    print(\"Data saved to real_estate_data.xlsx\")\n",
        "\n",
        "    # Сохранение в Pickle\n",
        "    df.to_pickle('real_estate_data.pkl')\n",
        "    print(\"Data saved to real_estate_data.pkl\")\n",
        "\n",
        "    # Сохранение в базу данных SQLite\n",
        "    conn = sqlite3.connect('real_estate_data.db')\n",
        "    df.to_sql('real_estate', conn, if_exists='replace', index=False)\n",
        "    conn.close()\n",
        "    print(\"Data saved to real_estate_data.db (SQLite database)\")\n",
        "\n",
        "# Основная функция для выполнения всех шагов\n",
        "def main(pages=50):\n",
        "    data = fetch_data(pages)\n",
        "    df = create_dataframe(data)\n",
        "    save_data(df)\n",
        "\n",
        "# Выполнение скрипта\n",
        "main(pages=50)\n"
      ]
    }
  ]
}