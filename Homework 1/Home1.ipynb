# Установка необходимых библиотек
!pip install git+https://github.com/lenarsaitov/cianparser.git
!pip install pandas openpyxl

# Импорт необходимых модулей
import cianparser
import pandas as pd
import sqlite3

# Шаг 1 - Сбор данных с cian.ru
def fetch_data(pages=50):
    parser = cianparser.CianParser(location="Москва")
    data = parser.get_flats(deal_type="sale", rooms=(1, 2, 3, 4, 5), with_saving_csv=False, additional_settings={"start_page":1, "end_page":pages})
    return data

# Шаг 2 - Преобразование данных в pandas DataFrame
def create_dataframe(data):
    df = pd.DataFrame(data)
    return df

# Шаг 3 - Сохранение данных в различные форматы
def save_data(df):
    # Сохранение в CSV
    df.to_csv('real_estate_data.csv', index=False)
    print("Data saved to real_estate_data.csv")
    
    # Сохранение в Excel
    df.to_excel('real_estate_data.xlsx', index=False)
    print("Data saved to real_estate_data.xlsx")
    
    # Сохранение в Pickle
    df.to_pickle('real_estate_data.pkl')
    print("Data saved to real_estate_data.pkl")
    
    # Сохранение в базу данных SQLite
    conn = sqlite3.connect('real_estate_data.db')
    df.to_sql('real_estate', conn, if_exists='replace', index=False)
    conn.close()
    print("Data saved to real_estate_data.db (SQLite database)")

# Основная функция для выполнения всех шагов
def main(pages=50):
    data = fetch_data(pages)
    df = create_dataframe(data)
    save_data(df)

# Выполнение скрипта
main(pages=50)
