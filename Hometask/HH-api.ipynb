{
 "cells": [
  {
   "cell_type": "markdown",
   "metadata": {},
   "source": [
    "[![Open In Colab](https://colab.research.google.com/assets/colab-badge.svg)](https://colab.research.google.com/github/4vel/python-intro/blob/main/HomeTask/HH-api.ipynb)"
   ]
  },
  {
   "cell_type": "markdown",
   "metadata": {},
   "source": [
    "# Задание\n",
    "* Cкачайте все вакансии СБЕРа в Москве api hh.ru (https://github.com/hhru/api)\n",
    "* Извлеките все полные описания этих вакансий по запросу с https://api.hh.ru/vacancies/43326020 ,где 43326020 id вакансии\n",
    "* Создайте DataFrame в котором будут даты публикации вакансий, названия, описания, только добавьте поле ключевые навыки\n"
   ]
  },
  {
   "cell_type": "code",
   "execution_count": 4,
   "metadata": {
    "ExecuteTime": {
     "end_time": "2023-12-08T15:29:11.419600Z",
     "start_time": "2023-12-08T15:29:11.408886Z"
    }
   },
   "outputs": [],
   "source": [
    "# Загрузка библиотек\n",
    "import requests\n",
    "from tqdm.auto import tqdm"
   ]
  },
  {
   "cell_type": "code",
   "execution_count": 5,
   "metadata": {
    "ExecuteTime": {
     "end_time": "2023-12-08T15:29:12.385654Z",
     "start_time": "2023-12-08T15:29:12.376193Z"
    }
   },
   "outputs": [],
   "source": [
    "# Идентификатор компании\n",
    "sber = '3529'\n",
    "# Номер страницы\n",
    "page = 1\n",
    "# Количество вакансий на страницу\n",
    "num_per_page = 100\n",
    "# Идентификатор области\n",
    "moscow = 1\n",
    "url = f'https://api.hh.ru/vacancies?employer_id={sber}&page={page}&per_page={num_per_page}&area={moscow}'"
   ]
  },
  {
   "cell_type": "code",
   "execution_count": 6,
   "metadata": {
    "ExecuteTime": {
     "end_time": "2023-12-08T15:29:14.126410Z",
     "start_time": "2023-12-08T15:29:13.599875Z"
    }
   },
   "outputs": [
    {
     "data": {
      "text/plain": "16"
     },
     "execution_count": 6,
     "metadata": {},
     "output_type": "execute_result"
    }
   ],
   "source": [
    "# Отправляем GET запрос в api.hh.ru\n",
    "res = requests.get(url)\n",
    "# Преобразовываем ответ api из JSON в словарь dict()\n",
    "vacancies = res.json()\n",
    "# Получаем количество страниц по результатам запроса\n",
    "num_pages = vacancies.get('pages')\n",
    "num_pages"
   ]
  },
  {
   "cell_type": "code",
   "execution_count": 7,
   "metadata": {
    "ExecuteTime": {
     "end_time": "2023-12-08T15:29:15.181229Z",
     "start_time": "2023-12-08T15:29:15.171305Z"
    }
   },
   "outputs": [
    {
     "data": {
      "text/plain": "dict_keys(['items', 'found', 'pages', 'page', 'per_page', 'clusters', 'arguments', 'fixes', 'suggests', 'alternate_url'])"
     },
     "execution_count": 7,
     "metadata": {},
     "output_type": "execute_result"
    }
   ],
   "source": [
    "# Вывод ключей словаря\n",
    "vacancies.keys()"
   ]
  },
  {
   "cell_type": "code",
   "execution_count": 8,
   "outputs": [],
   "source": [
    "# Получаем список идентификаторов вакансий из короткого описания вакансий\n",
    "# с одной страницы\n",
    "vacancy_ids = [el.get('id') for el in vacancies.get('items')]"
   ],
   "metadata": {
    "collapsed": false,
    "ExecuteTime": {
     "end_time": "2023-12-08T15:29:18.211313Z",
     "start_time": "2023-12-08T15:29:18.198234Z"
    }
   }
  },
  {
   "cell_type": "code",
   "execution_count": 9,
   "metadata": {
    "ExecuteTime": {
     "end_time": "2023-12-08T15:29:33.654620Z",
     "start_time": "2023-12-08T15:29:22.382349Z"
    }
   },
   "outputs": [
    {
     "data": {
      "text/plain": "  0%|          | 0/16 [00:00<?, ?it/s]",
      "application/vnd.jupyter.widget-view+json": {
       "version_major": 2,
       "version_minor": 0,
       "model_id": "25ced6b27aa04420acdb22769c28c145"
      }
     },
     "metadata": {},
     "output_type": "display_data"
    }
   ],
   "source": [
    "# Запускаем цикл для сбора всех идентификаторов вакансий со всех страниц\n",
    "all_vacancy_ids= []\n",
    "for i in tqdm(range(num_pages)):\n",
    "    url = f'https://api.hh.ru/vacancies?employer_id={sber}&page={i}&per_page={num_per_page}&area={moscow}'\n",
    "    res = requests.get(url)\n",
    "    vacancies = res.json()\n",
    "    vacancy_ids = [el.get('id') for el in vacancies.get('items')]\n",
    "    # заполняем список элементами vacancy_ids с помощью метода extend\n",
    "    all_vacancy_ids.extend(vacancy_ids)"
   ]
  },
  {
   "cell_type": "code",
   "execution_count": 10,
   "metadata": {
    "ExecuteTime": {
     "end_time": "2023-12-08T15:29:37.583196Z",
     "start_time": "2023-12-08T15:29:37.568209Z"
    }
   },
   "outputs": [
    {
     "data": {
      "text/plain": "1561"
     },
     "execution_count": 10,
     "metadata": {},
     "output_type": "execute_result"
    }
   ],
   "source": [
    "# Проверка количества идентификаторов вакансий\n",
    "len(all_vacancy_ids)"
   ]
  },
  {
   "cell_type": "code",
   "execution_count": 12,
   "metadata": {
    "ExecuteTime": {
     "end_time": "2023-12-08T15:29:45.779640Z",
     "start_time": "2023-12-08T15:29:45.697141Z"
    }
   },
   "outputs": [],
   "source": [
    "# Получение полной информации о вакансии по идентификатору\n",
    "# Отправляем запрос с идентификатором вакансии\n",
    "vac_id = 43326020\n",
    "url = f'https://api.hh.ru/vacancies/{vac_id}'\n",
    "res = requests.get(url)\n",
    "vacancy = res.json()\n"
   ]
  },
  {
   "cell_type": "code",
   "execution_count": 13,
   "metadata": {
    "ExecuteTime": {
     "end_time": "2023-12-08T15:29:47.816298Z",
     "start_time": "2023-12-08T15:29:47.806130Z"
    }
   },
   "outputs": [
    {
     "data": {
      "text/plain": "{'id': '43326020',\n 'premium': False,\n 'billing_type': {'id': 'standard', 'name': 'Стандарт'},\n 'relations': [],\n 'name': 'Специалист по экономической безопасности',\n 'insider_interview': None,\n 'response_letter_required': False,\n 'area': {'id': '1', 'name': 'Москва', 'url': 'https://api.hh.ru/areas/1'},\n 'salary': None,\n 'type': {'id': 'open', 'name': 'Открытая'},\n 'address': None,\n 'allow_messages': True,\n 'experience': {'id': 'between1And3', 'name': 'От 1 года до 3 лет'},\n 'schedule': {'id': 'fullDay', 'name': 'Полный день'},\n 'employment': {'id': 'full', 'name': 'Полная занятость'},\n 'department': {'id': '3529-3529-prof', 'name': 'Сбер для экспертов'},\n 'contacts': None,\n 'description': '<p><strong>Обязанности:</strong></p> <p> </p> <ul> <li>Поиск и анализ информации в отношении клиентов/контрагентов Банка для оценки уровня кредитных рисков, рисков деловой репутации, иных рисков сотрудничества с контрагентами, в т.ч. в рамках закупочных процедур, реализации строительных программ, благотворительной деятельности и пр.;</li> <li>Мониторинг показателей отрасли и прогноз возможных рисковых событий;</li> <li>Подготовка заявительских материалов в правоохранительные органы по фактам/попыткам нанесения ущерба Банку;</li> <li>Исполнение запросов, поступающих от правоохранительных органов;</li> <li>Подготовка экспертного мнения при проведении служебных расследований;</li> <li>Подготовка предложений по оптимизации и совершенствованию бизнес-процессов</li> <li>Информационная поддержка бизнеса;</li> <li>Экспертная оценка жалоб и заявлений клиентов Банка;</li> <li>Подготовка предложений по разработкам/доработкам АБС Банка и ПСИ;</li> </ul> <p> </p> <p><strong>Требования:</strong></p> <p> </p> <ul> <li>Высшее образование;</li> <li>Опыт работы в сфере кредитование/андеррайтинг по направлению «Корпоративные клиенты»;</li> <li>Опыт кросс-блокового взаимодействия в Банке (согласование ВНД, процессов и т.п.);</li> <li>Знание основ кредитования различных продуктовых групп Банка в корпоративном кредитовании и понимание принципов структурирования сделок;</li> <li>Знание основ бухгалтерского учета, умение анализировать показатели финансово-хозяйственной деятельности клиентов;</li> <li>Понимание правовых основ гражданского и корпоративного права, процессуальных процедур банкротства, уголовного преследования, споров в арбитраже и судах общей юрисдикции;</li> <li>Опыт работы с формализованными (банковскими и сторонними АС) и неформализованными источниками данных;</li> <li>Умение находить связи между компаниями и/или физическими лицами;</li> <li>Опыт по розыску активов, опыту работы с forensic-моделями – приветствуется;</li> <li>Умение анализировать отчеты профильных служб (строительных, юридических экспертиз, экспертизы рисков) – приветствуется;</li> <li>Знание иностранного языка на уровне intermediate – приветствуется;</li> </ul> <p> </p> <p><strong>Условия:</strong></p> <p> </p> <ul> <li>Работа в крупнейшем банке России;</li> <li>Трудоустройство согласно ТК РФ;</li> <li>Регулярное корпоративное обучение;</li> <li>ДМС, страхование от несчастных случаев и тяжелых заболеваний;</li> <li>Материальная помощь и социальная поддержка, корпоративная пенсионная программа;</li> <li>Льготные условия кредитования;</li> <li>Яркая и насыщенная корпоративная жизнь.</li> </ul> <p> </p> <ul> </ul>',\n 'branded_description': None,\n 'vacancy_constructor_template': None,\n 'key_skills': [],\n 'accept_handicapped': False,\n 'accept_kids': False,\n 'archived': True,\n 'response_url': None,\n 'specializations': [],\n 'professional_roles': [{'id': '120',\n   'name': 'Специалист службы безопасности'}],\n 'code': None,\n 'hidden': False,\n 'quick_responses_allowed': False,\n 'driver_license_types': [],\n 'accept_incomplete_resumes': False,\n 'employer': {'id': '3529',\n  'name': 'СБЕР',\n  'url': 'https://api.hh.ru/employers/3529',\n  'alternate_url': 'https://hh.ru/employer/3529',\n  'logo_urls': {'240': 'https://hhcdn.ru/employer-logo/5756157.png',\n   '90': 'https://hhcdn.ru/employer-logo/5756156.png',\n   'original': 'https://hhcdn.ru/employer-logo-original/1033849.png'},\n  'vacancies_url': 'https://api.hh.ru/vacancies?employer_id=3529',\n  'accredited_it_employer': False,\n  'trusted': True},\n 'published_at': '2021-03-24T17:46:03+0300',\n 'created_at': '2021-03-24T17:46:03+0300',\n 'initial_created_at': '2021-03-24T17:46:03+0300',\n 'negotiations_url': None,\n 'suitable_resumes_url': None,\n 'apply_alternate_url': 'https://hh.ru/applicant/vacancy_response?vacancyId=43326020',\n 'has_test': False,\n 'test': None,\n 'alternate_url': 'https://hh.ru/vacancy/43326020',\n 'working_days': [],\n 'working_time_intervals': [],\n 'working_time_modes': [],\n 'accept_temporary': False,\n 'languages': []}"
     },
     "execution_count": 13,
     "metadata": {},
     "output_type": "execute_result"
    }
   ],
   "source": [
    "# Пример полного описания вакансии\n",
    "vacancy"
   ]
  },
  {
   "cell_type": "code",
   "execution_count": 14,
   "metadata": {
    "ExecuteTime": {
     "end_time": "2023-12-08T15:33:59.287744Z",
     "start_time": "2023-12-08T15:29:49.648767Z"
    }
   },
   "outputs": [
    {
     "data": {
      "text/plain": "  0%|          | 0/1561 [00:00<?, ?it/s]",
      "application/vnd.jupyter.widget-view+json": {
       "version_major": 2,
       "version_minor": 0,
       "model_id": "ccc9a33d3c2541f98b4e4a0e7168f357"
      }
     },
     "metadata": {},
     "output_type": "display_data"
    }
   ],
   "source": [
    "# Собираем массив с полными описаниями вакансий по идентификаторам\n",
    "full_vacancies = []\n",
    "for vac_id in tqdm(all_vacancy_ids):\n",
    "    url = f'https://api.hh.ru/vacancies/{vac_id}'\n",
    "    res = requests.get(url)\n",
    "    vacancy = res.json()\n",
    "    full_vacancies.append(vacancy)"
   ]
  },
  {
   "cell_type": "code",
   "execution_count": null,
   "metadata": {},
   "outputs": [],
   "source": [
    "# Создаем таблицу DataFrame из всех полученных данных"
   ]
  },
  {
   "cell_type": "code",
   "execution_count": 16,
   "metadata": {
    "ExecuteTime": {
     "end_time": "2023-12-08T15:41:36.886084Z",
     "start_time": "2023-12-08T15:41:36.529736Z"
    }
   },
   "outputs": [],
   "source": [
    "import pandas as pd"
   ]
  },
  {
   "cell_type": "code",
   "execution_count": 17,
   "outputs": [],
   "source": [
    "df = pd.json_normalize(full_vacancies)"
   ],
   "metadata": {
    "collapsed": false,
    "ExecuteTime": {
     "end_time": "2023-12-08T15:41:44.025827Z",
     "start_time": "2023-12-08T15:41:44.011526Z"
    }
   }
  },
  {
   "cell_type": "code",
   "execution_count": 18,
   "outputs": [
    {
     "data": {
      "text/plain": "         id premium relations  \\\n0  90500047   False        []   \n1  90502881   False        []   \n2  90433682   False        []   \n3  90500842   False        []   \n4  90495677   False        []   \n\n                                                name  insider_interview  \\\n0                              Водитель персональный                NaN   \n1                           Руководитель направления                NaN   \n2                     Специалист по документообороту                NaN   \n3                           Руководитель направления                NaN   \n4  Стратегический менеджер в центр технологий Мет...                NaN   \n\n  response_letter_required  salary allow_messages  contacts  \\\n0                    False     NaN          False       NaN   \n1                    False     NaN          False       NaN   \n2                    False     NaN          False       NaN   \n3                    False     NaN          False       NaN   \n4                    False     NaN          False       NaN   \n\n                                         description  ... salary.from  \\\n0  <p>Команда транспортного обеспечения Сбербанка...  ...         NaN   \n1  <p>Расчет и анализ риск-взвешенных активов в с...  ...         NaN   \n2  <p>Сбер — это 14 тысяч подразделений по всей с...  ...         NaN   \n3  <p>Команда Отдела методологии ПОД/ФТ в поисках...  ...         NaN   \n4  <p>Центр технологиий Метавёрса СБЕРа - это ком...  ...         NaN   \n\n   salary.to salary.currency salary.gross address.metro test.required errors  \\\n0        NaN             NaN          NaN           NaN           NaN    NaN   \n1        NaN             NaN          NaN           NaN           NaN    NaN   \n2        NaN             NaN          NaN           NaN           NaN    NaN   \n3        NaN             NaN          NaN           NaN           NaN    NaN   \n4        NaN             NaN          NaN           NaN           NaN    NaN   \n\n  request_id immediate_redirect_url immediate_redirect_vacancy_id  \n0        NaN                    NaN                           NaN  \n1        NaN                    NaN                           NaN  \n2        NaN                    NaN                           NaN  \n3        NaN                    NaN                           NaN  \n4        NaN                    NaN                           NaN  \n\n[5 rows x 88 columns]",
      "text/html": "<div>\n<style scoped>\n    .dataframe tbody tr th:only-of-type {\n        vertical-align: middle;\n    }\n\n    .dataframe tbody tr th {\n        vertical-align: top;\n    }\n\n    .dataframe thead th {\n        text-align: right;\n    }\n</style>\n<table border=\"1\" class=\"dataframe\">\n  <thead>\n    <tr style=\"text-align: right;\">\n      <th></th>\n      <th>id</th>\n      <th>premium</th>\n      <th>relations</th>\n      <th>name</th>\n      <th>insider_interview</th>\n      <th>response_letter_required</th>\n      <th>salary</th>\n      <th>allow_messages</th>\n      <th>contacts</th>\n      <th>description</th>\n      <th>...</th>\n      <th>salary.from</th>\n      <th>salary.to</th>\n      <th>salary.currency</th>\n      <th>salary.gross</th>\n      <th>address.metro</th>\n      <th>test.required</th>\n      <th>errors</th>\n      <th>request_id</th>\n      <th>immediate_redirect_url</th>\n      <th>immediate_redirect_vacancy_id</th>\n    </tr>\n  </thead>\n  <tbody>\n    <tr>\n      <th>0</th>\n      <td>90500047</td>\n      <td>False</td>\n      <td>[]</td>\n      <td>Водитель персональный</td>\n      <td>NaN</td>\n      <td>False</td>\n      <td>NaN</td>\n      <td>False</td>\n      <td>NaN</td>\n      <td>&lt;p&gt;Команда транспортного обеспечения Сбербанка...</td>\n      <td>...</td>\n      <td>NaN</td>\n      <td>NaN</td>\n      <td>NaN</td>\n      <td>NaN</td>\n      <td>NaN</td>\n      <td>NaN</td>\n      <td>NaN</td>\n      <td>NaN</td>\n      <td>NaN</td>\n      <td>NaN</td>\n    </tr>\n    <tr>\n      <th>1</th>\n      <td>90502881</td>\n      <td>False</td>\n      <td>[]</td>\n      <td>Руководитель направления</td>\n      <td>NaN</td>\n      <td>False</td>\n      <td>NaN</td>\n      <td>False</td>\n      <td>NaN</td>\n      <td>&lt;p&gt;Расчет и анализ риск-взвешенных активов в с...</td>\n      <td>...</td>\n      <td>NaN</td>\n      <td>NaN</td>\n      <td>NaN</td>\n      <td>NaN</td>\n      <td>NaN</td>\n      <td>NaN</td>\n      <td>NaN</td>\n      <td>NaN</td>\n      <td>NaN</td>\n      <td>NaN</td>\n    </tr>\n    <tr>\n      <th>2</th>\n      <td>90433682</td>\n      <td>False</td>\n      <td>[]</td>\n      <td>Специалист по документообороту</td>\n      <td>NaN</td>\n      <td>False</td>\n      <td>NaN</td>\n      <td>False</td>\n      <td>NaN</td>\n      <td>&lt;p&gt;Сбер — это 14 тысяч подразделений по всей с...</td>\n      <td>...</td>\n      <td>NaN</td>\n      <td>NaN</td>\n      <td>NaN</td>\n      <td>NaN</td>\n      <td>NaN</td>\n      <td>NaN</td>\n      <td>NaN</td>\n      <td>NaN</td>\n      <td>NaN</td>\n      <td>NaN</td>\n    </tr>\n    <tr>\n      <th>3</th>\n      <td>90500842</td>\n      <td>False</td>\n      <td>[]</td>\n      <td>Руководитель направления</td>\n      <td>NaN</td>\n      <td>False</td>\n      <td>NaN</td>\n      <td>False</td>\n      <td>NaN</td>\n      <td>&lt;p&gt;Команда Отдела методологии ПОД/ФТ в поисках...</td>\n      <td>...</td>\n      <td>NaN</td>\n      <td>NaN</td>\n      <td>NaN</td>\n      <td>NaN</td>\n      <td>NaN</td>\n      <td>NaN</td>\n      <td>NaN</td>\n      <td>NaN</td>\n      <td>NaN</td>\n      <td>NaN</td>\n    </tr>\n    <tr>\n      <th>4</th>\n      <td>90495677</td>\n      <td>False</td>\n      <td>[]</td>\n      <td>Стратегический менеджер в центр технологий Мет...</td>\n      <td>NaN</td>\n      <td>False</td>\n      <td>NaN</td>\n      <td>False</td>\n      <td>NaN</td>\n      <td>&lt;p&gt;Центр технологиий Метавёрса СБЕРа - это ком...</td>\n      <td>...</td>\n      <td>NaN</td>\n      <td>NaN</td>\n      <td>NaN</td>\n      <td>NaN</td>\n      <td>NaN</td>\n      <td>NaN</td>\n      <td>NaN</td>\n      <td>NaN</td>\n      <td>NaN</td>\n      <td>NaN</td>\n    </tr>\n  </tbody>\n</table>\n<p>5 rows × 88 columns</p>\n</div>"
     },
     "execution_count": 18,
     "metadata": {},
     "output_type": "execute_result"
    }
   ],
   "source": [
    "df.head()"
   ],
   "metadata": {
    "collapsed": false,
    "ExecuteTime": {
     "end_time": "2023-12-08T15:41:46.861600Z",
     "start_time": "2023-12-08T15:41:46.829015Z"
    }
   }
  },
  {
   "cell_type": "code",
   "execution_count": 20,
   "outputs": [
    {
     "data": {
      "text/plain": "(1561, 88)"
     },
     "execution_count": 20,
     "metadata": {},
     "output_type": "execute_result"
    }
   ],
   "source": [
    "df.shape"
   ],
   "metadata": {
    "collapsed": false,
    "ExecuteTime": {
     "end_time": "2023-12-08T15:44:12.366716Z",
     "start_time": "2023-12-08T15:44:12.356987Z"
    }
   }
  },
  {
   "cell_type": "code",
   "execution_count": null,
   "outputs": [],
   "source": [
    "# Сохраняем результаты\n",
    "# Возможно потребуется установка модуля openpyxl\n",
    "# !pip install openpyxl"
   ],
   "metadata": {
    "collapsed": false
   }
  },
  {
   "cell_type": "code",
   "execution_count": 23,
   "outputs": [],
   "source": [
    "# Сохраняем в csv файл\n",
    "df.to_csv('vacancies.csv', index=False)\n",
    "# Сохраняем в эксель-файл\n",
    "df.to_excel('vacancies.xlsx', index=False)\n",
    "# Сохраняем в файл в формате pickle\n",
    "df.to_pickle('vacancies.pkl')\n"
   ],
   "metadata": {
    "collapsed": false,
    "ExecuteTime": {
     "end_time": "2023-12-08T15:45:19.074174Z",
     "start_time": "2023-12-08T15:45:15.039028Z"
    }
   }
  },
  {
   "cell_type": "code",
   "execution_count": 22,
   "outputs": [],
   "source": [],
   "metadata": {
    "collapsed": false,
    "ExecuteTime": {
     "end_time": "2023-12-08T15:44:45.739651Z",
     "start_time": "2023-12-08T15:44:45.729411Z"
    }
   }
  },
  {
   "cell_type": "code",
   "execution_count": null,
   "outputs": [],
   "source": [],
   "metadata": {
    "collapsed": false
   }
  }
 ],
 "metadata": {
  "kernelspec": {
   "display_name": "Python 3 (ipykernel)",
   "language": "python",
   "name": "python3"
  },
  "language_info": {
   "codemirror_mode": {
    "name": "ipython",
    "version": 3
   },
   "file_extension": ".py",
   "mimetype": "text/x-python",
   "name": "python",
   "nbconvert_exporter": "python",
   "pygments_lexer": "ipython3",
   "version": "3.9.13"
  }
 },
 "nbformat": 4,
 "nbformat_minor": 4
}
