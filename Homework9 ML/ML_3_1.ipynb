{
 "cells": [
  {
   "cell_type": "code",
   "execution_count": null,
   "id": "0d16c588-29a9-493b-a655-825d964dcbe3",
   "metadata": {},
   "outputs": [],
   "source": [
    "import pandas as pd\n",
    "import numpy as np\n",
    "from sklearn.model_selection import train_test_split\n",
    "from sklearn.linear_model import Ridge, Lasso\n",
    "from sklearn.metrics import mean_squared_error, r2_score\n",
    "import warnings\n",
    "warnings.filterwarnings('ignore')"
   ]
  },
  {
   "cell_type": "markdown",
   "id": "f0589cb3-d2de-44cb-8c2b-b57565d68e46",
   "metadata": {},
   "source": [
    "### Загрузка данных"
   ]
  },
  {
   "cell_type": "code",
   "execution_count": null,
   "id": "579a5dca-bc4e-4bc3-8888-0b7978c66536",
   "metadata": {},
   "outputs": [],
   "source": [
    "data = pd.read_csv('Mobile-Price-Prediction-cleaned_data.csv')\n",
    "data.head()"
   ]
  },
  {
   "cell_type": "code",
   "execution_count": null,
   "id": "072a8ecc-3919-4294-885b-ae06b5ec6881",
   "metadata": {},
   "outputs": [],
   "source": [
    "target = 'Price'\n",
    "X = data.drop(columns = [target])\n",
    "y = data[target]\n",
    "X.shape, y.shape"
   ]
  },
  {
   "cell_type": "code",
   "execution_count": null,
   "id": "70d59a7e-6be8-485f-a425-599ac187f4ee",
   "metadata": {},
   "outputs": [],
   "source": [
    "X_train, X_test, y_train, y_test = train_test_split(X, y, test_size=0.3, random_state=42)"
   ]
  },
  {
   "cell_type": "markdown",
   "id": "2744fd93-e8a0-4e31-8c62-0b5955935c3d",
   "metadata": {},
   "source": [
    "### Масштабирование"
   ]
  },
  {
   "cell_type": "code",
   "execution_count": null,
   "id": "3682ecc3-c20a-4860-9409-cfb4245827a2",
   "metadata": {},
   "outputs": [],
   "source": [
    "from sklearn.preprocessing import StandardScaler, MinMaxScaler"
   ]
  },
  {
   "cell_type": "markdown",
   "id": "c72cf938-a076-4f8d-89ca-4cfcf77f4dd3",
   "metadata": {},
   "source": [
    "https://scikit-learn.org/stable/modules/generated/sklearn.preprocessing.StandardScaler.html\n",
    "\n",
    "https://scikit-learn.org/stable/modules/generated/sklearn.preprocessing.MinMaxScaler.html"
   ]
  },
  {
   "cell_type": "raw",
   "id": "1a0aa34e-061e-466e-a657-83af70df4855",
   "metadata": {},
   "source": [
    "Приведение данных к нулевому среднему и единичной дисперсии"
   ]
  },
  {
   "cell_type": "code",
   "execution_count": null,
   "id": "e5a06e64-66d8-4927-a69d-3babc877023f",
   "metadata": {},
   "outputs": [],
   "source": [
    "st_scaler = StandardScaler()"
   ]
  },
  {
   "cell_type": "code",
   "execution_count": null,
   "id": "cbea45c7-82b4-42d3-ba2e-7d38437ea32c",
   "metadata": {},
   "outputs": [],
   "source": [
    "st_scaler.fit(X_train)"
   ]
  },
  {
   "cell_type": "code",
   "execution_count": null,
   "id": "f8c7de33-8e26-48d3-8066-e300172f3396",
   "metadata": {},
   "outputs": [],
   "source": [
    "X_train_st = st_scaler.transform(X_train)\n",
    "X_test_st = st_scaler.transform(X_test)"
   ]
  },
  {
   "cell_type": "raw",
   "id": "2bd1bc7a-0f6a-4a41-9212-069d536b0851",
   "metadata": {},
   "source": [
    "Масштабирование данных на диапазон [0, 1]"
   ]
  },
  {
   "cell_type": "code",
   "execution_count": null,
   "id": "34e5913e-423c-48a8-bb1e-49aa07f4c641",
   "metadata": {},
   "outputs": [],
   "source": [
    "min_max_scaler = MinMaxScaler()"
   ]
  },
  {
   "cell_type": "code",
   "execution_count": null,
   "id": "47e0ecb9-22a3-47b9-aef3-df663a72010c",
   "metadata": {},
   "outputs": [],
   "source": [
    "X_train_min_max = min_max_scaler.fit_transform(X_train)\n",
    "X_test_min_max = min_max_scaler.transform(X_test)"
   ]
  },
  {
   "cell_type": "code",
   "execution_count": null,
   "id": "8ef42584-68a9-4fa4-ba00-22af0a3a8107",
   "metadata": {},
   "outputs": [],
   "source": [
    "X_train.shape, X_train_st.shape, X_train_min_max.shape"
   ]
  },
  {
   "cell_type": "markdown",
   "id": "da80d27f-8a85-42ef-90bb-213f981ee3e6",
   "metadata": {},
   "source": [
    "### Применение алгоритма"
   ]
  },
  {
   "cell_type": "code",
   "execution_count": null,
   "id": "f82e4038-b37d-4e97-a28d-1a08673ed71d",
   "metadata": {},
   "outputs": [],
   "source": [
    "lr = Ridge()\n",
    "lr.fit(X_train,y_train)"
   ]
  },
  {
   "cell_type": "code",
   "execution_count": null,
   "id": "17909a38-3c1f-4608-9709-1d7ead77f622",
   "metadata": {},
   "outputs": [],
   "source": [
    "y_pred = lr.predict(X_test)\n",
    "mse = mean_squared_error(y_test, y_pred)\n",
    "r2 = r2_score(y_test, y_pred)\n",
    "\n",
    "print(f'MSE: {mse:.2f}')\n",
    "print(f'R2: {r2:.2f}')"
   ]
  },
  {
   "cell_type": "code",
   "execution_count": null,
   "id": "88e7c85a-80c2-48e4-b51e-47331240f915",
   "metadata": {},
   "outputs": [],
   "source": [
    "lr = Ridge()\n",
    "lr.fit(X_train_st,y_train)"
   ]
  },
  {
   "cell_type": "code",
   "execution_count": null,
   "id": "4bab45c6-ae56-45c5-a872-88fd351ac281",
   "metadata": {},
   "outputs": [],
   "source": [
    "y_pred = lr.predict(X_test_st)\n",
    "mse = mean_squared_error(y_test, y_pred)\n",
    "r2 = r2_score(y_test, y_pred)\n",
    "\n",
    "print(f'MSE: {mse:.2f}')\n",
    "print(f'R2: {r2:.2f}')"
   ]
  },
  {
   "cell_type": "code",
   "execution_count": null,
   "id": "10fe1fad-ec43-4ab3-bc9c-9c72a5c8a566",
   "metadata": {},
   "outputs": [],
   "source": [
    "lr = Ridge()\n",
    "lr.fit(X_train_min_max,y_train)"
   ]
  },
  {
   "cell_type": "code",
   "execution_count": null,
   "id": "3c73bbde-cc50-42fe-a060-173a79d1b279",
   "metadata": {},
   "outputs": [],
   "source": [
    "y_pred = lr.predict(X_test_min_max)\n",
    "mse = mean_squared_error(y_test, y_pred)\n",
    "r2 = r2_score(y_test, y_pred)\n",
    "\n",
    "print(f'MSE: {mse:.2f}')\n",
    "print(f'R2: {r2:.2f}')"
   ]
  },
  {
   "cell_type": "markdown",
   "id": "f5acb8b5-40d8-4ec8-b4f0-4d600d287951",
   "metadata": {},
   "source": [
    "### Использование Pipeline"
   ]
  },
  {
   "cell_type": "code",
   "execution_count": null,
   "id": "f695bbe5-343c-49f2-b513-e23ca5600aca",
   "metadata": {},
   "outputs": [],
   "source": [
    "from sklearn.pipeline import Pipeline"
   ]
  },
  {
   "cell_type": "markdown",
   "id": "d78a9946-c8f3-4398-ab7c-f3d3717c5f1f",
   "metadata": {},
   "source": [
    "https://scikit-learn.org/stable/modules/generated/sklearn.pipeline.Pipeline.html"
   ]
  },
  {
   "cell_type": "code",
   "execution_count": null,
   "id": "433eb776-b812-4117-a47a-49ddc966d450",
   "metadata": {},
   "outputs": [],
   "source": [
    "pipe_st = Pipeline(steps=[\n",
    "    ('st_scaler', StandardScaler()),\n",
    "    ('ridge', Ridge())\n",
    "])"
   ]
  },
  {
   "cell_type": "code",
   "execution_count": null,
   "id": "2f46a3fa-cf59-409e-8c9b-0b1bbd242872",
   "metadata": {},
   "outputs": [],
   "source": [
    "pipe_st.fit(X_train, y_train)"
   ]
  },
  {
   "cell_type": "code",
   "execution_count": null,
   "id": "ef30fb52-f27e-4766-9f3b-cef23afc3116",
   "metadata": {},
   "outputs": [],
   "source": [
    "y_pred = pipe_st.predict(X_test)\n",
    "mse = mean_squared_error(y_test, y_pred)\n",
    "r2 = r2_score(y_test, y_pred)\n",
    "\n",
    "print(f'MSE: {mse:.2f}')\n",
    "print(f'R2: {r2:.2f}')"
   ]
  },
  {
   "cell_type": "markdown",
   "id": "d011a512-dac7-4031-b613-031b0b105d37",
   "metadata": {},
   "source": [
    "### Использование make_pipeline"
   ]
  },
  {
   "cell_type": "code",
   "execution_count": null,
   "id": "fe754675-a609-43e0-afda-df8c88705a77",
   "metadata": {},
   "outputs": [],
   "source": [
    "from sklearn.pipeline import make_pipeline"
   ]
  },
  {
   "cell_type": "markdown",
   "id": "8a787f23-3983-40da-aefa-5095da78ddcf",
   "metadata": {},
   "source": [
    "https://scikit-learn.org/stable/modules/generated/sklearn.pipeline.make_pipeline.html"
   ]
  },
  {
   "cell_type": "code",
   "execution_count": null,
   "id": "e50ca96b-c1c6-41f3-b797-a3e31bddc061",
   "metadata": {},
   "outputs": [],
   "source": [
    "pipe_min_max = make_pipeline(MinMaxScaler(), Ridge())"
   ]
  },
  {
   "cell_type": "code",
   "execution_count": null,
   "id": "36246617-e79e-4f84-b81f-47575ce9eefb",
   "metadata": {},
   "outputs": [],
   "source": [
    "pipe_min_max.fit(X_train, y_train)"
   ]
  },
  {
   "cell_type": "code",
   "execution_count": null,
   "id": "6c917dba-e25d-43b3-a860-54f08e6d65d9",
   "metadata": {},
   "outputs": [],
   "source": [
    "y_pred = pipe_min_max.predict(X_test)\n",
    "mse = mean_squared_error(y_test, y_pred)\n",
    "r2 = r2_score(y_test, y_pred)\n",
    "\n",
    "print(f'MSE: {mse:.2f}')\n",
    "print(f'R2: {r2:.2f}')"
   ]
  },
  {
   "cell_type": "markdown",
   "id": "c0ea3369-bfac-49c6-b006-c118d708ab40",
   "metadata": {},
   "source": [
    "### Использование PolynomialFeatures"
   ]
  },
  {
   "cell_type": "code",
   "execution_count": null,
   "id": "5cfaf0cb-ff21-4a19-99ec-aa866c5e617e",
   "metadata": {},
   "outputs": [],
   "source": [
    "from sklearn.preprocessing import PolynomialFeatures"
   ]
  },
  {
   "cell_type": "markdown",
   "id": "bc9bdae5-1e7a-4b60-b5e7-3b91d9f62435",
   "metadata": {},
   "source": [
    "https://scikit-learn.org/stable/modules/generated/sklearn.preprocessing.PolynomialFeatures.html"
   ]
  },
  {
   "cell_type": "code",
   "execution_count": null,
   "id": "253295fd-83bb-4575-a51a-3c5dc3a0cbea",
   "metadata": {},
   "outputs": [],
   "source": [
    "poly = PolynomialFeatures(degree=2)"
   ]
  },
  {
   "cell_type": "code",
   "execution_count": null,
   "id": "2befb018-3e15-46d6-b6f6-820be4b618fc",
   "metadata": {},
   "outputs": [],
   "source": [
    "X_train_poly = poly.fit_transform(X_train)\n",
    "X_test_poly = poly.transform(X_test)\n",
    "X_train_poly.shape, X_test_poly.shape"
   ]
  },
  {
   "cell_type": "code",
   "execution_count": null,
   "id": "71addb88-3e2d-4c8e-8de8-d377b87a8844",
   "metadata": {},
   "outputs": [],
   "source": [
    "poly.get_feature_names_out()"
   ]
  },
  {
   "cell_type": "code",
   "execution_count": null,
   "id": "ff82f790-240a-49e5-b978-58d4e4bfcc7c",
   "metadata": {},
   "outputs": [],
   "source": []
  },
  {
   "cell_type": "code",
   "execution_count": null,
   "id": "134c66b2-e093-4f10-9d67-52453b892958",
   "metadata": {},
   "outputs": [],
   "source": [
    "pipe_poly = Pipeline(steps=[\n",
    "    ('poly', PolynomialFeatures(degree=2)),\n",
    "    ('st_scaler', StandardScaler()),\n",
    "    ('ridge', Ridge())\n",
    "])"
   ]
  },
  {
   "cell_type": "code",
   "execution_count": null,
   "id": "efe9193b-b1b2-4161-add7-89c542ee92d2",
   "metadata": {},
   "outputs": [],
   "source": [
    "pipe_poly.fit(X_train, y_train)"
   ]
  },
  {
   "cell_type": "code",
   "execution_count": null,
   "id": "e9ab6ce1-e452-4e25-aaf8-8f601f2da5b2",
   "metadata": {},
   "outputs": [],
   "source": [
    "y_pred = pipe_poly.predict(X_test)\n",
    "mse = mean_squared_error(y_test, y_pred)\n",
    "r2 = r2_score(y_test, y_pred)\n",
    "\n",
    "print(f'MSE: {mse:.2f}')\n",
    "print(f'R2: {r2:.2f}')"
   ]
  },
  {
   "cell_type": "markdown",
   "id": "86074d08-f84b-4f68-a274-0a828cf4aef1",
   "metadata": {},
   "source": [
    "### Подбор коэффициента регуляризации"
   ]
  },
  {
   "cell_type": "code",
   "execution_count": null,
   "id": "f9d966ce-6be0-4631-8927-739164ae2df9",
   "metadata": {},
   "outputs": [],
   "source": [
    "from sklearn.linear_model import RidgeCV, LassoCV"
   ]
  },
  {
   "cell_type": "markdown",
   "id": "3d98f6b7-cd35-45a9-a0a7-6f04bc91f5ee",
   "metadata": {},
   "source": [
    "https://scikit-learn.org/stable/modules/generated/sklearn.linear_model.RidgeCV.html\n",
    "\n",
    "https://scikit-learn.org/stable/modules/generated/sklearn.linear_model.LassoCV.html"
   ]
  },
  {
   "cell_type": "code",
   "execution_count": null,
   "id": "3eafd6d5-1051-446e-bd19-6884e7b46e89",
   "metadata": {},
   "outputs": [],
   "source": [
    "pipe_poly = Pipeline(steps=[\n",
    "    ('poly', PolynomialFeatures(degree=2)),\n",
    "    ('st_scaler', StandardScaler()),\n",
    "    ('ridge', RidgeCV())\n",
    "])\n",
    "pipe_poly.fit(X_train, y_train)\n",
    "y_pred = pipe_poly.predict(X_test)\n",
    "mse = mean_squared_error(y_test, y_pred)\n",
    "r2 = r2_score(y_test, y_pred)\n",
    "\n",
    "print(f'MSE: {mse:.2f}')\n",
    "print(f'R2: {r2:.2f}')"
   ]
  },
  {
   "cell_type": "code",
   "execution_count": null,
   "id": "24f57418-60cc-4eea-9a39-b4112ada7738",
   "metadata": {},
   "outputs": [],
   "source": [
    "pipe_poly.steps[2][1].alpha_"
   ]
  },
  {
   "cell_type": "code",
   "execution_count": null,
   "id": "eb9a074c-b78d-4f13-9de5-c8d3d9232182",
   "metadata": {},
   "outputs": [],
   "source": [
    "pipe_poly.steps[2][1].alphas"
   ]
  },
  {
   "cell_type": "markdown",
   "id": "78984d09-1214-4bce-80f1-736d90818697",
   "metadata": {},
   "source": [
    "### Подбор гиперпараметров"
   ]
  },
  {
   "cell_type": "code",
   "execution_count": null,
   "id": "177bdf70-252a-498f-b8b5-da9190dfdd55",
   "metadata": {},
   "outputs": [],
   "source": [
    "from sklearn.model_selection import GridSearchCV"
   ]
  },
  {
   "cell_type": "markdown",
   "id": "e70574ad-02ca-4130-8829-93ec7d7d971d",
   "metadata": {},
   "source": [
    "https://scikit-learn.org/stable/modules/generated/sklearn.model_selection.GridSearchCV.html"
   ]
  },
  {
   "cell_type": "code",
   "execution_count": null,
   "id": "1e858d55-3bc3-4db3-be04-81f1034c52df",
   "metadata": {},
   "outputs": [],
   "source": [
    "pipe_poly = Pipeline(steps=[\n",
    "    ('poly', PolynomialFeatures(degree=2)),\n",
    "    ('st_scaler', StandardScaler()),\n",
    "    ('ridge', Ridge())\n",
    "])\n",
    "\n",
    "param_grid = [{\n",
    "    'poly__degree': [1,2,3],\n",
    "    'ridge__alpha': [ 0.1, 1, 10],\n",
    "    'ridge__solver' : [ 'sparse_cg', 'sag', 'saga'],\n",
    "    }]\n",
    "\n",
    "\n",
    "gridsearch = GridSearchCV(estimator = pipe_poly,\n",
    "                          param_grid = param_grid,\n",
    "                          cv = 3,\n",
    "                          verbose=0)\n",
    "\n",
    "gridsearch.fit(X_train, y_train)"
   ]
  },
  {
   "cell_type": "code",
   "execution_count": null,
   "id": "3f2bcf35-f9d7-4dbe-b5c6-8cd95ba60691",
   "metadata": {},
   "outputs": [],
   "source": [
    "gridsearch.best_params_"
   ]
  },
  {
   "cell_type": "code",
   "execution_count": null,
   "id": "99dfe12a-2cc8-470e-ad09-67d7bc474724",
   "metadata": {},
   "outputs": [],
   "source": [
    "gridsearch.best_score_"
   ]
  },
  {
   "cell_type": "code",
   "execution_count": null,
   "id": "d6560a45-a24b-42ba-a707-f506a153c57e",
   "metadata": {},
   "outputs": [],
   "source": [
    "y_pred = gridsearch.predict(X_test)\n",
    "mse = mean_squared_error(y_test, y_pred)\n",
    "r2 = r2_score(y_test, y_pred)\n",
    "\n",
    "print(f'MSE: {mse:.2f}')\n",
    "print(f'R2: {r2:.2f}')"
   ]
  },
  {
   "cell_type": "code",
   "execution_count": null,
   "id": "57ffa3ae-49ec-4432-a5f1-a3624c6af945",
   "metadata": {},
   "outputs": [],
   "source": []
  }
 ],
 "metadata": {
  "kernelspec": {
   "display_name": "Python 3 (ipykernel)",
   "language": "python",
   "name": "python3"
  },
  "language_info": {
   "codemirror_mode": {
    "name": "ipython",
    "version": 3
   },
   "file_extension": ".py",
   "mimetype": "text/x-python",
   "name": "python",
   "nbconvert_exporter": "python",
   "pygments_lexer": "ipython3",
   "version": "3.11.6"
  }
 },
 "nbformat": 4,
 "nbformat_minor": 5
}
