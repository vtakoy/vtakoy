{
 "cells": [
  {
   "cell_type": "code",
   "execution_count": null,
   "metadata": {},
   "outputs": [],
   "source": [
    "import sqlite3\n",
    "import pandas as pd"
   ]
  },
  {
   "cell_type": "markdown",
   "metadata": {},
   "source": [
    "<img src='joins.png'>"
   ]
  },
  {
   "cell_type": "code",
   "execution_count": null,
   "metadata": {},
   "outputs": [],
   "source": [
    "con = sqlite3.connect(':memory:')\n",
    "cur = con.cursor()"
   ]
  },
  {
   "cell_type": "code",
   "execution_count": null,
   "metadata": {},
   "outputs": [],
   "source": [
    "names = pd.DataFrame(\n",
    "    {\n",
    "        'id': [1, 2, 3, 4, 5],\n",
    "        'name': ['Петр', 'Петр', 'Олег', 'Мария', 'Елена'],\n",
    "    }\n",
    ")\n",
    "surnames = pd.DataFrame(\n",
    "    {\n",
    "        'id': [1, 2, 4, 5, 6],\n",
    "        'surname': ['Иванов', 'Петров', 'Никитина', 'Смирнова', 'Сидорова'],\n",
    "    }\n",
    ")"
   ]
  },
  {
   "cell_type": "code",
   "execution_count": null,
   "metadata": {},
   "outputs": [],
   "source": [
    "names.to_sql('names', con, index=False, if_exists='replace')\n",
    "surnames.to_sql('surnames', con, index=False, if_exists='replace')"
   ]
  },
  {
   "cell_type": "code",
   "execution_count": null,
   "metadata": {},
   "outputs": [],
   "source": [
    "pd.read_sql(\n",
    "    '''\n",
    "    SELECT * FROM names\n",
    "    ''',\n",
    "    con,\n",
    ")"
   ]
  },
  {
   "cell_type": "code",
   "execution_count": null,
   "metadata": {},
   "outputs": [],
   "source": [
    "pd.read_sql(\n",
    "    '''\n",
    "    SELECT * FROM surnames\n",
    "    ''',\n",
    "    con,\n",
    ")"
   ]
  },
  {
   "cell_type": "code",
   "execution_count": null,
   "metadata": {},
   "outputs": [],
   "source": [
    "pd.read_sql(\n",
    "    '''\n",
    "    SELECT * FROM names n\n",
    "    join surnames s on n.id = s.id\n",
    "    ''',\n",
    "    con,\n",
    ")"
   ]
  },
  {
   "cell_type": "code",
   "execution_count": null,
   "metadata": {},
   "outputs": [],
   "source": [
    "pd.read_sql(\n",
    "    '''\n",
    "    SELECT * FROM names \n",
    "    join surnames on names.id = surnames.id\n",
    "    ''',\n",
    "    con,\n",
    ")"
   ]
  },
  {
   "cell_type": "code",
   "execution_count": null,
   "metadata": {},
   "outputs": [],
   "source": [
    "pd.read_sql(\n",
    "    '''\n",
    "    SELECT * FROM names n\n",
    "    inner join surnames s on n.id = s.id\n",
    "    ''',\n",
    "    con,\n",
    ")"
   ]
  },
  {
   "cell_type": "code",
   "execution_count": null,
   "metadata": {},
   "outputs": [],
   "source": [
    "pd.read_sql(\n",
    "    '''\n",
    "    SELECT * FROM names n\n",
    "    left join surnames s on n.id = s.id\n",
    "    ''',\n",
    "    con,\n",
    ")"
   ]
  },
  {
   "cell_type": "code",
   "execution_count": null,
   "metadata": {},
   "outputs": [],
   "source": [
    "pd.read_sql(\n",
    "    '''\n",
    "    SELECT * FROM names n\n",
    "    right join surnames s on n.id = s.id\n",
    "    ''',\n",
    "    con,\n",
    ")"
   ]
  },
  {
   "cell_type": "code",
   "execution_count": null,
   "metadata": {},
   "outputs": [],
   "source": [
    "pd.read_sql(\n",
    "    '''\n",
    "    SELECT n.*,s.* FROM surnames s\n",
    "    left join names n on n.id = s.id\n",
    "    ''',\n",
    "    con,\n",
    ")"
   ]
  },
  {
   "cell_type": "code",
   "execution_count": null,
   "metadata": {},
   "outputs": [],
   "source": [
    "pd.read_sql(\n",
    "    '''\n",
    "    SELECT n.id, n.name, s.surname FROM names n \n",
    "    join surnames s on n.id = s.id\n",
    "    where n.name = 'Петр'\n",
    "    ''',\n",
    "    con,\n",
    ")"
   ]
  },
  {
   "cell_type": "code",
   "execution_count": null,
   "metadata": {},
   "outputs": [],
   "source": [
    "pd.read_sql(\n",
    "    '''\n",
    "    SELECT n.id, n.name, s.surname FROM names n \n",
    "    join surnames s on n.id = s.id\n",
    "    where n.name != 'Петр'\n",
    "    ''',\n",
    "    con,\n",
    ")"
   ]
  },
  {
   "cell_type": "code",
   "execution_count": null,
   "metadata": {},
   "outputs": [],
   "source": [
    "pd.read_sql(\n",
    "    '''\n",
    "    SELECT n.id, n.name, s.surname FROM names n \n",
    "    join surnames s on n.id = s.id\n",
    "    where n.id >=2\n",
    "    ''',\n",
    "    con,\n",
    ")"
   ]
  },
  {
   "cell_type": "code",
   "execution_count": null,
   "metadata": {},
   "outputs": [],
   "source": [
    "pd.read_sql(\n",
    "    '''\n",
    "    SELECT n.id, n.name, s.surname FROM names n \n",
    "    join surnames s on n.id = s.id\n",
    "    where s.surname like '%а'\n",
    "    ''',\n",
    "    con,\n",
    ")"
   ]
  },
  {
   "cell_type": "code",
   "execution_count": null,
   "metadata": {},
   "outputs": [],
   "source": [
    "pd.read_sql(\n",
    "    '''\n",
    "    SELECT n.id, n.name, s.surname FROM names n \n",
    "    join surnames s on n.id = s.id\n",
    "    where s.surname like 'И%'\n",
    "    ''',\n",
    "    con,\n",
    ")"
   ]
  },
  {
   "cell_type": "code",
   "execution_count": null,
   "metadata": {},
   "outputs": [],
   "source": [
    "pd.read_sql(\n",
    "    '''\n",
    "    SELECT n.id, n.name, s.surname FROM names n \n",
    "    join surnames s on n.id = s.id\n",
    "    where n.name like 'П_тр'\n",
    "    ''',\n",
    "    con,\n",
    ")"
   ]
  },
  {
   "cell_type": "code",
   "execution_count": null,
   "metadata": {},
   "outputs": [],
   "source": [
    "pd.read_sql(\n",
    "    '''\n",
    "    SELECT n.id, n.name, s.surname FROM names n \n",
    "    join surnames s on n.id = s.id\n",
    "    where n.name = 'Петр' and s.surname = 'Петров'\n",
    "    ''',\n",
    "    con,\n",
    ")"
   ]
  },
  {
   "cell_type": "code",
   "execution_count": null,
   "metadata": {},
   "outputs": [],
   "source": [
    "pd.read_sql(\n",
    "    '''\n",
    "    SELECT n.id, n.name, s.surname FROM names n \n",
    "    join surnames s on n.id = s.id\n",
    "    where n.name = 'Петр' or s.surname = 'Смирнова'\n",
    "    ''',\n",
    "    con,\n",
    ")"
   ]
  },
  {
   "cell_type": "code",
   "execution_count": null,
   "metadata": {},
   "outputs": [],
   "source": [
    "pd.read_sql(\n",
    "    '''\n",
    "    SELECT n.id, n.name, s.surname FROM names n \n",
    "    join surnames s on n.id = s.id\n",
    "    where n.id between 1 and 4\n",
    "    ''',\n",
    "    con,\n",
    ")"
   ]
  },
  {
   "cell_type": "code",
   "execution_count": null,
   "metadata": {},
   "outputs": [],
   "source": [
    "pd.read_sql(\n",
    "    '''\n",
    "    SELECT distinct n.name FROM names n \n",
    "    ''',\n",
    "\n",
    "    con,\n",
    ")"
   ]
  },
  {
   "cell_type": "code",
   "execution_count": null,
   "metadata": {},
   "outputs": [],
   "source": [
    "pd.read_sql(\n",
    "    '''\n",
    "    SELECT n.name FROM names n \n",
    "    join surnames s on n.id = s.id\n",
    "    where s.surname = 'Иванов'\n",
    "    UNION ALL\n",
    "    SELECT n.name FROM names n \n",
    "    join surnames s on n.id = s.id\n",
    "    where s.surname = 'Петров'\n",
    "    ''',\n",
    "    con,\n",
    ")"
   ]
  },
  {
   "cell_type": "code",
   "execution_count": null,
   "metadata": {},
   "outputs": [],
   "source": [
    "pd.read_sql(\n",
    "    '''\n",
    "    SELECT n.name FROM names n \n",
    "    join surnames s on n.id = s.id\n",
    "    where s.surname = 'Иванов'\n",
    "    UNION\n",
    "    SELECT n.name FROM names n \n",
    "    join surnames s on n.id = s.id\n",
    "    where s.surname = 'Петров'\n",
    "    ''',\n",
    "    con,\n",
    ")"
   ]
  },
  {
   "cell_type": "code",
   "execution_count": null,
   "metadata": {},
   "outputs": [],
   "source": [
    "pd.read_sql(\n",
    "    '''\n",
    "    SELECT n.name,n.id FROM names n \n",
    "    join surnames s on n.id = s.id\n",
    "    where s.surname = 'Иванов'\n",
    "    UNION\n",
    "    SELECT n.name,n.id FROM names n \n",
    "    join surnames s on n.id = s.id\n",
    "    where s.surname = 'Петров'\n",
    "    ''',\n",
    "    con,\n",
    ")"
   ]
  },
  {
   "cell_type": "code",
   "execution_count": null,
   "metadata": {},
   "outputs": [],
   "source": [
    "pd.read_sql(\n",
    "    '''\n",
    "    SELECT n.id, n.name, s.surname , \n",
    "    case when s.surname like '%а' then 'female' else 'male' end as 'sex'\n",
    "    FROM names n \n",
    "    join surnames s on n.id = s.id\n",
    "    ''',\n",
    "    con,\n",
    ")"
   ]
  },
  {
   "cell_type": "code",
   "execution_count": null,
   "metadata": {},
   "outputs": [],
   "source": [
    "ages = pd.DataFrame(\n",
    "    {\n",
    "        'id': [1, 2, 3, 4, 5, 6],\n",
    "        'age': [26, 35, 28, 22, 25, 33],\n",
    "    }\n",
    ")"
   ]
  },
  {
   "cell_type": "code",
   "execution_count": null,
   "metadata": {},
   "outputs": [],
   "source": [
    "pd.read_sql(\n",
    "    '''\n",
    "    SELECT name FROM sqlite_master WHERE type='table'\n",
    "    ''',\n",
    "    con,\n",
    ")"
   ]
  },
  {
   "cell_type": "code",
   "execution_count": null,
   "metadata": {},
   "outputs": [],
   "source": [
    "ages.to_sql('ages', con, index=False, if_exists='replace')"
   ]
  },
  {
   "cell_type": "code",
   "execution_count": null,
   "metadata": {},
   "outputs": [],
   "source": [
    "pd.read_sql(\n",
    "    '''\n",
    "    SELECT name FROM sqlite_master WHERE type='table'\n",
    "    ''',\n",
    "    con,\n",
    ")"
   ]
  },
  {
   "cell_type": "code",
   "execution_count": null,
   "metadata": {},
   "outputs": [],
   "source": []
  },
  {
   "cell_type": "code",
   "execution_count": null,
   "metadata": {},
   "outputs": [],
   "source": [
    "pd.read_sql(\n",
    "    '''\n",
    "    SELECT n.id, n.name, s.surname, a.age\n",
    "    FROM names n \n",
    "    join surnames s on n.id = s.id\n",
    "    join ages a on s.id = a.id\n",
    "    ''',\n",
    "    con,\n",
    ")"
   ]
  },
  {
   "cell_type": "code",
   "execution_count": null,
   "metadata": {},
   "outputs": [],
   "source": [
    "pd.read_sql(\n",
    "    '''\n",
    "    SELECT max(a.age),min(a.age),avg(a.age),sum(a.age),count(a.age)\n",
    "    FROM names n \n",
    "    join surnames s on n.id = s.id\n",
    "    join ages a on n.id = a.id\n",
    "    ''',\n",
    "    con,\n",
    ")"
   ]
  },
  {
   "cell_type": "code",
   "execution_count": null,
   "metadata": {},
   "outputs": [],
   "source": [
    "pd.read_sql(\n",
    "    '''\n",
    "    SELECT n.name, max(a.age),min(a.age),avg(a.age),sum(a.age),count(a.age)\n",
    "    FROM names n \n",
    "    join surnames s on n.id = s.id\n",
    "    join ages a on n.id = a.id\n",
    "    group by n.name\n",
    "    ''',\n",
    "    con,\n",
    ")"
   ]
  },
  {
   "cell_type": "code",
   "execution_count": null,
   "metadata": {},
   "outputs": [],
   "source": []
  }
 ],
 "metadata": {
  "kernelspec": {
   "display_name": "Python 3",
   "language": "python",
   "name": "python3"
  },
  "language_info": {
   "codemirror_mode": {
    "name": "ipython",
    "version": 3
   },
   "file_extension": ".py",
   "mimetype": "text/x-python",
   "name": "python",
   "nbconvert_exporter": "python",
   "pygments_lexer": "ipython3",
   "version": "3.7.6"
  }
 },
 "nbformat": 4,
 "nbformat_minor": 4
}
