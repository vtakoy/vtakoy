{
 "cells": [
  {
   "cell_type": "markdown",
   "metadata": {
    "executionInfo": {
     "elapsed": 945,
     "status": "ok",
     "timestamp": 1725280862946,
     "user": {
      "displayName": "M",
      "userId": "00222344656684414893"
     },
     "user_tz": -180
    },
    "id": "2K5UM_gqtv0c"
   },
   "source": [
    "# task2.4. Реализовать на базе модели определения пола выявление с другим нормированием (относительно среднего значения). Также добавьте альтернативную функцию активации\n"
   ]
  },
  {
   "cell_type": "code",
   "execution_count": 1,
   "metadata": {
    "id": "9Z057psZwJQP"
   },
   "outputs": [
    {
     "name": "stdout",
     "output_type": "stream",
     "text": [
      "Нормированные данные: [-0.28571429 -0.14285714  0.          0.14285714  0.28571429]\n",
      "Результат после ReLU активации: [0.         0.         0.         0.14285714 0.28571429]\n"
     ]
    }
   ],
   "source": [
    "import numpy as np\n",
    "\n",
    "# Нормирование данных относительно среднего значения\n",
    "def normalize_data(data):\n",
    "    mean_value = np.mean(data)\n",
    "    return (data - mean_value) / mean_value\n",
    "\n",
    "# Функция активации ReLU\n",
    "def relu(x):\n",
    "    return np.maximum(0, x)\n",
    "\n",
    "# Пример данных для нормализации (например, возраст, рост, вес и т.д.)\n",
    "data = np.array([25, 30, 35, 40, 45])\n",
    "\n",
    "# Нормируем данные\n",
    "normalized_data = normalize_data(data)\n",
    "print(\"Нормированные данные:\", normalized_data)\n",
    "\n",
    "# Применяем функцию активации ReLU\n",
    "activated_output = relu(normalized_data)\n",
    "print(\"Результат после ReLU активации:\", activated_output)\n"
   ]
  },
  {
   "cell_type": "markdown",
   "metadata": {},
   "source": [
    "# task2.5. Реализовать решение уровнения через градиентный спуск: x**2+2x-6"
   ]
  },
  {
   "cell_type": "code",
   "execution_count": 2,
   "metadata": {},
   "outputs": [
    {
     "name": "stdout",
     "output_type": "stream",
     "text": [
      "Минимальное значение функции достигается при x = -1.0000000000000004\n"
     ]
    }
   ],
   "source": [
    "def gradient_descent(learning_rate=0.1, epochs=1000):\n",
    "    x = np.random.randn()  # Случайное начальное значение\n",
    "    for i in range(epochs):\n",
    "        gradient = 2 * x + 2  # Производная функции f(x) = x^2 + 2x - 6\n",
    "        x -= learning_rate * gradient  # Обновляем x\n",
    "    return x\n",
    "\n",
    "# Запускаем градиентный спуск\n",
    "result = gradient_descent()\n",
    "print(f\"Минимальное значение функции достигается при x = {result}\")\n"
   ]
  },
  {
   "cell_type": "markdown",
   "metadata": {},
   "source": [
    "# task2.6. (дополнительно) Реализовать решение уровнения через градиентный спуск: x**3+2x**2-6x-1"
   ]
  },
  {
   "cell_type": "code",
   "execution_count": 3,
   "metadata": {},
   "outputs": [
    {
     "name": "stdout",
     "output_type": "stream",
     "text": [
      "Минимальное значение функции достигается при x = 0.8968052532744759\n"
     ]
    }
   ],
   "source": [
    "def gradient_descent_cubic(learning_rate=0.01, epochs=1000):\n",
    "    x = np.random.randn()  # Случайное начальное значение\n",
    "    for i in range(epochs):\n",
    "        gradient = 3 * x**2 + 4 * x - 6  # Производная функции f(x) = x^3 + 2x^2 - 6x - 1\n",
    "        x -= learning_rate * gradient  # Обновляем x\n",
    "    return x\n",
    "\n",
    "# Запускаем градиентный спуск\n",
    "result = gradient_descent_cubic()\n",
    "print(f\"Минимальное значение функции достигается при x = {result}\")\n"
   ]
  },
  {
   "cell_type": "code",
   "execution_count": null,
   "metadata": {},
   "outputs": [],
   "source": []
  }
 ],
 "metadata": {
  "colab": {
   "authorship_tag": "ABX9TyMvHXDSFXur7x9twS+Tz0ee",
   "provenance": []
  },
  "kernelspec": {
   "display_name": "Python 3 (ipykernel)",
   "language": "python",
   "name": "python3"
  },
  "language_info": {
   "codemirror_mode": {
    "name": "ipython",
    "version": 3
   },
   "file_extension": ".py",
   "mimetype": "text/x-python",
   "name": "python",
   "nbconvert_exporter": "python",
   "pygments_lexer": "ipython3",
   "version": "3.12.4"
  }
 },
 "nbformat": 4,
 "nbformat_minor": 4
}
