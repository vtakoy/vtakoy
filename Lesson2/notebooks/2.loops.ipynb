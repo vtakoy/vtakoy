{
 "cells": [
  {
   "cell_type": "markdown",
   "metadata": {},
   "source": [
    "<a target=\"_blank\" href=\"https://colab.research.google.com/github/da-python/new-modul-python/blob/main/Lesson1/notebooks/2.loops.ipynb\">\n",
    "</a>"
   ]
  },
  {
   "cell_type": "markdown",
   "source": [
    "[![Open In Colab](https://colab.research.google.com/assets/colab-badge.svg)](https://colab.research.google.com/github/4vel/python-intro/blob/main/Lesson2/notebooks/2.loops.ipynb)"
   ],
   "metadata": {
    "collapsed": false
   }
  },
  {
   "cell_type": "markdown",
   "metadata": {},
   "source": [
    "# Циклы, тернарные операторы, функции"
   ]
  },
  {
   "cell_type": "markdown",
   "metadata": {},
   "source": [
    "### Логические операторы"
   ]
  },
  {
   "cell_type": "markdown",
   "metadata": {},
   "source": [
    "* and \n",
    "* or \n",
    "* not \n",
    "* in\n",
    "* not in\n",
    "* Выполняется ли равенство ==  \n",
    "* Выполняется ли неравенство !=\n",
    "* Больше или меньше  >< >= <=\n"
   ]
  },
  {
   "cell_type": "code",
   "execution_count": null,
   "metadata": {},
   "outputs": [],
   "source": [
    "alco = {'пиво':10, 'вино':15, 'водка':5, 'шампанское':1}"
   ]
  },
  {
   "cell_type": "code",
   "execution_count": 2,
   "metadata": {},
   "outputs": [
    {
     "data": {
      "text/plain": [
       "[('шампанское', 1), ('водка', 5), ('пиво', 10), ('вино', 15)]"
      ]
     },
     "execution_count": 2,
     "metadata": {},
     "output_type": "execute_result"
    }
   ],
   "source": [
    "sorted(alco.items(), key=lambda x:x[1], reverse=False)"
   ]
  },
  {
   "cell_type": "code",
   "execution_count": 6,
   "metadata": {},
   "outputs": [
    {
     "data": {
      "text/plain": [
       "['шампанское', 'водка', 'пиво', 'вино']"
      ]
     },
     "execution_count": 6,
     "metadata": {},
     "output_type": "execute_result"
    }
   ],
   "source": [
    "alcolist = ['шампанское','водка','пиво','вино']\n",
    "sorted(alcolist, key=lambda x: len(x) , reverse=True)"
   ]
  },
  {
   "cell_type": "code",
   "execution_count": 15,
   "metadata": {},
   "outputs": [
    {
     "data": {
      "text/plain": [
       "[(1, 'шампанское'), (2, 'водка'), (3, 'пиво'), (4, 'вино')]"
      ]
     },
     "execution_count": 15,
     "metadata": {},
     "output_type": "execute_result"
    }
   ],
   "source": [
    "alconames = ['шампанское','водка','пиво','вино']\n",
    "alcovalues = [1,2,3,4,5]\n",
    "list(zip(alcovalues, alconames))"
   ]
  },
  {
   "cell_type": "code",
   "execution_count": 19,
   "metadata": {},
   "outputs": [
    {
     "name": "stdout",
     "output_type": "stream",
     "text": [
      "0 шампанское\n",
      "1 водка\n",
      "2 пиво\n",
      "3 вино\n"
     ]
    }
   ],
   "source": [
    "for i, alco in enumerate(alconames):\n",
    "    print(i, alco)"
   ]
  },
  {
   "cell_type": "code",
   "execution_count": 53,
   "metadata": {},
   "outputs": [
    {
     "name": "stdout",
     "output_type": "stream",
     "text": [
      "число\n"
     ]
    }
   ],
   "source": [
    "x = 1\n",
    "if isinstance(x, int):\n",
    "    print('число')\n",
    "elif isinstance(x, str):\n",
    "    print('строка')\n",
    "else:\n",
    "    print('другой тип')"
   ]
  },
  {
   "cell_type": "code",
   "execution_count": 60,
   "metadata": {},
   "outputs": [
    {
     "data": {
      "text/plain": [
       "[1, 0, 0, 1]"
      ]
     },
     "execution_count": 60,
     "metadata": {},
     "output_type": "execute_result"
    }
   ],
   "source": [
    "[1 if isinstance(x, int) else 0 for x in [1,'sdf','2',1]]"
   ]
  },
  {
   "cell_type": "markdown",
   "metadata": {},
   "source": [
    "#### Тернарные операторы"
   ]
  },
  {
   "cell_type": "code",
   "execution_count": 64,
   "metadata": {
    "scrolled": true
   },
   "outputs": [
    {
     "data": {
      "text/plain": [
       "False"
      ]
     },
     "execution_count": 64,
     "metadata": {},
     "output_type": "execute_result"
    }
   ],
   "source": [
    "# проверят выполняется ли условие\n",
    "True != True"
   ]
  },
  {
   "cell_type": "code",
   "execution_count": 65,
   "metadata": {},
   "outputs": [
    {
     "name": "stdout",
     "output_type": "stream",
     "text": [
      "-\n"
     ]
    }
   ],
   "source": [
    "# Дополнительное условие elif\n",
    "a = -8\n",
    "if a > 0:\n",
    "    print('+')\n",
    "elif -10 < a < -5 :\n",
    "    print('-')"
   ]
  },
  {
   "cell_type": "code",
   "execution_count": 66,
   "metadata": {},
   "outputs": [
    {
     "name": "stdout",
     "output_type": "stream",
     "text": [
      "---\n"
     ]
    }
   ],
   "source": [
    "# Еще одно дополнительное условие elif\n",
    "a = -10\n",
    "if a > 0:\n",
    "    print('+')\n",
    "elif -10 < a < -5 :\n",
    "    print('-')\n",
    "elif -15 < a <= -10  :\n",
    "    print('---')"
   ]
  },
  {
   "cell_type": "code",
   "execution_count": 62,
   "metadata": {},
   "outputs": [
    {
     "name": "stdout",
     "output_type": "stream",
     "text": [
      "...\n"
     ]
    }
   ],
   "source": [
    "# Альтернативное условие else\n",
    "a = 0\n",
    "if a > 0:\n",
    "    print('+')\n",
    "elif -10 < a < -5 :\n",
    "    print('-')\n",
    "elif -15 < a <= -10  :\n",
    "    print('---')\n",
    "else :\n",
    "    print('...')"
   ]
  },
  {
   "cell_type": "code",
   "execution_count": 78,
   "metadata": {},
   "outputs": [
    {
     "name": "stdout",
     "output_type": "stream",
     "text": [
      "Bavaria - Ой не забыть быть чипсоны\n",
      "Corona - Ой надо купить буррито!\n",
      "Ragegast - Ой не забыть быть чипсоны\n",
      "Lambic - Ой не забыть быть чипсоны\n",
      "Perroni - Ой надо взять пиццу\n"
     ]
    }
   ],
   "source": [
    "# пример использвоания if в цикле\n",
    "beerlist = ['Bavaria', 'Corona', 'Ragegast','Lambic', 'Perroni']\n",
    "for beer in beerlist:\n",
    "    if beer == 'Corona':\n",
    "        print('{} - Ой надо купить буррито!'.format(beer,beer))\n",
    "    elif beer == 'Perroni':\n",
    "        print('{} - Ой надо взять пиццу'.format(beer))\n",
    "    else:\n",
    "        print('{} - Ой не забыть быть чипсоны'.format(beer))"
   ]
  },
  {
   "cell_type": "markdown",
   "metadata": {
    "collapsed": true
   },
   "source": [
    "### Циклы"
   ]
  },
  {
   "cell_type": "code",
   "execution_count": 62,
   "metadata": {},
   "outputs": [
    {
     "name": "stdout",
     "output_type": "stream",
     "text": [
      "fruit =  banana\n",
      "fruit =  orange\n"
     ]
    }
   ],
   "source": [
    "# Для поочередного перебора элементов ЛЮБОЙ последовательности в Python есть специальный цикл\n",
    "# переменной fruit при каждой итерации(полном обороте) цикла присваиваются элементы поочереди\n",
    "fruits = ['banana', 'orange']\n",
    "for fruit in fruits:  \n",
    "    print('fruit = ', fruit)"
   ]
  },
  {
   "cell_type": "code",
   "execution_count": 63,
   "metadata": {},
   "outputs": [
    {
     "name": "stdout",
     "output_type": "stream",
     "text": [
      "el =  H\n",
      "el =  e\n",
      "el =  l\n",
      "el =  l\n",
      "el =  o\n"
     ]
    }
   ],
   "source": [
    "# со строкой тоже работает\n",
    "for el in 'Hello':  \n",
    "    print('el = ', el)\n"
   ]
  },
  {
   "cell_type": "code",
   "execution_count": 64,
   "metadata": {},
   "outputs": [
    {
     "name": "stdout",
     "output_type": "stream",
     "text": [
      "t_el =  1\n",
      "t_el =  2\n",
      "t_el =  3\n",
      "t_el =  4\n",
      "t_el =  5\n",
      "t_el =  10\n"
     ]
    }
   ],
   "source": [
    "# и с кортежем\n",
    "for t_el in 1, 2, 3, 4, 5, 10:  \n",
    "    print('t_el = ', t_el)\n"
   ]
  },
  {
   "cell_type": "code",
   "execution_count": 65,
   "metadata": {},
   "outputs": [
    {
     "name": "stdout",
     "output_type": "stream",
     "text": [
      "el =  1\n"
     ]
    }
   ],
   "source": [
    "#  break позволяет выйти из цикла до его завершения\n",
    "for el in [1, 2, 'Hello', 4]:\n",
    "    print('el = ', el)\n",
    "    break"
   ]
  },
  {
   "cell_type": "code",
   "execution_count": 66,
   "metadata": {},
   "outputs": [
    {
     "name": "stdout",
     "output_type": "stream",
     "text": [
      "hheellll  wwrrlldd"
     ]
    }
   ],
   "source": [
    "# continue позволяет пропустить итерацию\n",
    "for i in 'hello world':\n",
    "    if i == 'o':\n",
    "        continue\n",
    "    print(i * 2, end='')"
   ]
  },
  {
   "cell_type": "code",
   "execution_count": 69,
   "metadata": {},
   "outputs": [
    {
     "name": "stdout",
     "output_type": "stream",
     "text": [
      "Буквы a в строке нет\n"
     ]
    }
   ],
   "source": [
    "# else может проверить выход из цикла с помощью break и выполнить инструкцию в этом случае\n",
    "for i in 'hello world':\n",
    "#     print(i)\n",
    "    if i == 'a':\n",
    "        break\n",
    "else:\n",
    "    print('Буквы a в строке нет')"
   ]
  },
  {
   "cell_type": "markdown",
   "metadata": {},
   "source": [
    "### Генератор последовательности range"
   ]
  },
  {
   "cell_type": "code",
   "execution_count": 95,
   "metadata": {},
   "outputs": [
    {
     "data": {
      "text/plain": [
       "range(0, 10)"
      ]
     },
     "execution_count": 95,
     "metadata": {},
     "output_type": "execute_result"
    }
   ],
   "source": [
    "x = range(10)\n",
    "x"
   ]
  },
  {
   "cell_type": "code",
   "execution_count": 96,
   "metadata": {},
   "outputs": [
    {
     "data": {
      "text/plain": [
       "range"
      ]
     },
     "execution_count": 96,
     "metadata": {},
     "output_type": "execute_result"
    }
   ],
   "source": [
    "type(x)"
   ]
  },
  {
   "cell_type": "code",
   "execution_count": 70,
   "metadata": {},
   "outputs": [
    {
     "data": {
      "text/plain": [
       "[10, 11, 12, 13, 14, 15, 16, 17, 18, 19]"
      ]
     },
     "execution_count": 70,
     "metadata": {},
     "output_type": "execute_result"
    }
   ],
   "source": [
    "x = range(10, 20, 1)\n",
    "list(x)"
   ]
  },
  {
   "cell_type": "code",
   "execution_count": 98,
   "metadata": {},
   "outputs": [
    {
     "data": {
      "text/plain": [
       "[20, 18, 16, 14, 12]"
      ]
     },
     "execution_count": 98,
     "metadata": {},
     "output_type": "execute_result"
    }
   ],
   "source": [
    "x = range(20, 10, -2)\n",
    "list(x)"
   ]
  },
  {
   "cell_type": "code",
   "execution_count": 52,
   "metadata": {},
   "outputs": [
    {
     "name": "stdout",
     "output_type": "stream",
     "text": [
      "10\n",
      "8\n",
      "6\n",
      "4\n",
      "2\n"
     ]
    }
   ],
   "source": [
    "# for\n",
    "for i in range(10, 1, -2):\n",
    "    print(i)"
   ]
  },
  {
   "cell_type": "code",
   "execution_count": 60,
   "metadata": {},
   "outputs": [
    {
     "name": "stdout",
     "output_type": "stream",
     "text": [
      "[10, 20, 30, 40, 50]\n"
     ]
    }
   ],
   "source": [
    "alist = []\n",
    "for i in range(10,60,10):   \n",
    "    alist.append(i)\n",
    "print(alist)"
   ]
  },
  {
   "cell_type": "code",
   "execution_count": 99,
   "metadata": {},
   "outputs": [
    {
     "name": "stdout",
     "output_type": "stream",
     "text": [
      "fruit =  apple\n",
      "fruit =  banana\n",
      "fruit =  mango\n"
     ]
    }
   ],
   "source": [
    "# Перебор элементов по индексам\n",
    "fruits = ['apple', 'banana', 'mango']\n",
    "i = 0\n",
    "while len(fruits) > i:\n",
    "    print('fruit = ', fruits[i])\n",
    "    i += 1\n",
    "#     i = i + 1"
   ]
  },
  {
   "cell_type": "code",
   "execution_count": 101,
   "metadata": {},
   "outputs": [
    {
     "name": "stdout",
     "output_type": "stream",
     "text": [
      "9\n",
      "8\n",
      "7\n",
      "6\n",
      "5\n",
      "4\n",
      "3\n",
      "2\n",
      "1\n",
      "0\n"
     ]
    }
   ],
   "source": [
    "n = 10\n",
    "while n > 0:\n",
    "    n -= 1\n",
    "    print(n)"
   ]
  },
  {
   "cell_type": "code",
   "execution_count": 100,
   "metadata": {},
   "outputs": [
    {
     "name": "stdout",
     "output_type": "stream",
     "text": [
      "fruit =  apple\n",
      "fruit =  banana\n",
      "fruit =  mango\n"
     ]
    }
   ],
   "source": [
    "# переменной fruit при каждой итерации(полном обороте) цикла присваиваются элементы поочереди\n",
    "for fruit in fruits:  \n",
    "    print('fruit = ', fruit)"
   ]
  },
  {
   "cell_type": "code",
   "execution_count": 78,
   "metadata": {},
   "outputs": [
    {
     "name": "stdout",
     "output_type": "stream",
     "text": [
      "Bavaria\n",
      "Corona\n",
      "Ragegast\n",
      "Lambic\n",
      "Perroni\n"
     ]
    }
   ],
   "source": [
    "# С помощью цикла можно пройти по всем элементам списка\n",
    "beerlist = ['Bavaria', 'Corona', 'Ragegast','Lambic', 'Perroni']\n",
    "for beer in beerlist:\n",
    "    print(beer)"
   ]
  },
  {
   "cell_type": "code",
   "execution_count": 82,
   "metadata": {},
   "outputs": [
    {
     "name": "stdout",
     "output_type": "stream",
     "text": [
      "Bavaria\n",
      "Corona\n",
      "Ragegast\n",
      "Lambic\n",
      "Perroni\n"
     ]
    }
   ],
   "source": [
    "# В цикле можно использовать индекс для вывода элементов списка\n",
    "for i in range(len(beerlist)):\n",
    "    print(beerlist[i])"
   ]
  },
  {
   "cell_type": "code",
   "execution_count": 83,
   "metadata": {},
   "outputs": [
    {
     "name": "stdout",
     "output_type": "stream",
     "text": [
      "0 Bavaria\n",
      "1 Corona\n",
      "2 Ragegast\n",
      "3 Lambic\n",
      "4 Perroni\n"
     ]
    }
   ],
   "source": [
    "# Итерируясь по списку можно выводить и индекс элемента\n",
    "for i, beer in enumerate(beerlist):\n",
    "    print(i, beer)"
   ]
  },
  {
   "cell_type": "code",
   "execution_count": 86,
   "metadata": {},
   "outputs": [
    {
     "data": {
      "text/plain": [
       "[(0, 'Bavaria'), (1, 'Corona'), (2, 'Ragegast'), (3, 'Lambic'), (4, 'Perroni')]"
      ]
     },
     "execution_count": 86,
     "metadata": {},
     "output_type": "execute_result"
    }
   ],
   "source": [
    "# enumerate выводить список кортежей из элементов списка\n",
    "list(enumerate(beerlist))"
   ]
  },
  {
   "cell_type": "code",
   "execution_count": 72,
   "metadata": {},
   "outputs": [
    {
     "name": "stdout",
     "output_type": "stream",
     "text": [
      "Марка: Bavaria\n",
      "Марка: Corona\n",
      "Марка: Ragegast\n",
      "Марка: Lambic\n",
      "Марка: Perroni\n"
     ]
    }
   ],
   "source": [
    "# По словарю можно проходить циклом по ключам\n",
    "for key in newdict.keys():\n",
    "    print('Марка: {}'.format(key))"
   ]
  },
  {
   "cell_type": "code",
   "execution_count": 75,
   "metadata": {},
   "outputs": [
    {
     "name": "stdout",
     "output_type": "stream",
     "text": [
      "купить 10 бутылок или...\n",
      "купить 20 бутылок или...\n",
      "купить 30 бутылок или...\n",
      "купить 40 бутылок или...\n",
      "купить 50 бутылок или...\n"
     ]
    }
   ],
   "source": [
    "# По словарю можно проходить циклом по значениям\n",
    "for val in newdict.values():\n",
    "    print('купить {} бутылок или...'.format(val))"
   ]
  },
  {
   "cell_type": "code",
   "execution_count": 67,
   "metadata": {},
   "outputs": [
    {
     "name": "stdout",
     "output_type": "stream",
     "text": [
      "Марка: Bavaria, купить 10 бутылок\n",
      "Марка: Corona, купить 20 бутылок\n",
      "Марка: Ragegast, купить 30 бутылок\n",
      "Марка: Lambic, купить 40 бутылок\n",
      "Марка: Perroni, купить 50 бутылок\n"
     ]
    }
   ],
   "source": [
    "# По словарю можно проходить циклом по ключам и значениям\n",
    "for key, value in newdict.items():\n",
    "    print('Марка: {}, купить {} бутылок'.format(key,value))"
   ]
  },
  {
   "cell_type": "code",
   "execution_count": 71,
   "metadata": {},
   "outputs": [
    {
     "name": "stdout",
     "output_type": "stream",
     "text": [
      "0\n",
      "1\n",
      "2\n"
     ]
    }
   ],
   "source": [
    "# Если мы используем круглые скобки и range, то мы создаем отдельный вид итераторов - генератор\n",
    "seq =(x for x in range(10))\n",
    "# Функция next() позволяет переходить к следующему элементу генератора\n",
    "print(next(seq))\n",
    "print(next(seq))\n",
    "print(next(seq))"
   ]
  },
  {
   "cell_type": "markdown",
   "metadata": {},
   "source": [
    "# List comprehension "
   ]
  },
  {
   "cell_type": "code",
   "execution_count": 72,
   "metadata": {},
   "outputs": [],
   "source": [
    "# Допустим у нас есть список \n",
    "nums = [2, 4, 6, 8, 10]"
   ]
  },
  {
   "cell_type": "code",
   "execution_count": 73,
   "metadata": {},
   "outputs": [
    {
     "data": {
      "text/plain": [
       "[2, 4, 6, 8, 10]"
      ]
     },
     "execution_count": 73,
     "metadata": {},
     "output_type": "execute_result"
    }
   ],
   "source": [
    "# Обычный цикл\n",
    "nums_new = []\n",
    "for i in range(1, 6):\n",
    "    nums_new.append(2*i)\n",
    "nums_new"
   ]
  },
  {
   "cell_type": "code",
   "execution_count": 74,
   "metadata": {},
   "outputs": [
    {
     "data": {
      "text/plain": [
       "[2, 4, 6, 8, 10]"
      ]
     },
     "execution_count": 74,
     "metadata": {},
     "output_type": "execute_result"
    }
   ],
   "source": [
    "[(2*i) for i in range(1,6)]"
   ]
  },
  {
   "cell_type": "code",
   "execution_count": 5,
   "metadata": {},
   "outputs": [
    {
     "data": {
      "text/plain": [
       "{2, 4, 6, 8, 10}"
      ]
     },
     "execution_count": 5,
     "metadata": {},
     "output_type": "execute_result"
    }
   ],
   "source": [
    "{(2*i) for i in range(1,6)}"
   ]
  },
  {
   "cell_type": "code",
   "execution_count": 6,
   "metadata": {},
   "outputs": [
    {
     "data": {
      "text/plain": [
       "[1, 2, 3, 4, 5, 6, 7, 8, 9, 10]"
      ]
     },
     "execution_count": 6,
     "metadata": {},
     "output_type": "execute_result"
    }
   ],
   "source": [
    "[num for num in range(1, 11)]"
   ]
  },
  {
   "cell_type": "code",
   "execution_count": 7,
   "metadata": {},
   "outputs": [
    {
     "data": {
      "text/plain": [
       "[2, 4, 6, 8, 10]"
      ]
     },
     "execution_count": 7,
     "metadata": {},
     "output_type": "execute_result"
    }
   ],
   "source": [
    "# Добавим условие\n",
    "[num for num in range(1, 11) if num % 2 == 0]"
   ]
  },
  {
   "cell_type": "code",
   "execution_count": 8,
   "metadata": {},
   "outputs": [
    {
     "data": {
      "text/plain": [
       "['_', 2, '_', 4, '_', 6, '_', 8, '_', 10]"
      ]
     },
     "execution_count": 8,
     "metadata": {},
     "output_type": "execute_result"
    }
   ],
   "source": [
    "# Добавим альтернативное условие\n",
    "[num if num % 2 == 0 else '_' for num in range(1, 11)]"
   ]
  },
  {
   "cell_type": "code",
   "execution_count": 9,
   "metadata": {},
   "outputs": [
    {
     "data": {
      "text/plain": [
       "[(1, 'a'),\n",
       " (1, 'b'),\n",
       " (1, 'c'),\n",
       " (2, 'a'),\n",
       " (2, 'b'),\n",
       " (2, 'c'),\n",
       " (3, 'a'),\n",
       " (3, 'b'),\n",
       " (3, 'c')]"
      ]
     },
     "execution_count": 9,
     "metadata": {},
     "output_type": "execute_result"
    }
   ],
   "source": [
    "# Циклы в цикле\n",
    "numbers = [1, 2, 3]\n",
    "letters = ['a','b','c']\n",
    "[(i, j) for i in numbers for j in letters]"
   ]
  },
  {
   "cell_type": "code",
   "execution_count": null,
   "metadata": {},
   "outputs": [],
   "source": [
    "# Когда циклов много\n",
    "# [(i, j, k) for i in numbers for j in letters for k in range(3)]\n",
    "\n",
    "# Если на выходе нужен  список в списке\n",
    "[[(i, j) for i in numbers] for j in letters]"
   ]
  },
  {
   "cell_type": "code",
   "execution_count": 31,
   "metadata": {},
   "outputs": [
    {
     "data": {
      "text/plain": [
       "{'a': 97,\n",
       " 'b': 98,\n",
       " 'c': 99,\n",
       " 'd': 100,\n",
       " 'e': 101,\n",
       " 'f': 102,\n",
       " 'g': 103,\n",
       " 'h': 104,\n",
       " 'i': 105,\n",
       " 'j': 106,\n",
       " 'k': 107,\n",
       " 'l': 108,\n",
       " 'm': 109,\n",
       " 'n': 110,\n",
       " 'o': 111,\n",
       " 'p': 112,\n",
       " 'q': 113,\n",
       " 'r': 114,\n",
       " 's': 115,\n",
       " 't': 116,\n",
       " 'u': 117,\n",
       " 'v': 118,\n",
       " 'w': 119,\n",
       " 'x': 120,\n",
       " 'y': 121,\n",
       " 'z': 122}"
      ]
     },
     "execution_count": 31,
     "metadata": {},
     "output_type": "execute_result"
    }
   ],
   "source": [
    "# Генератор словарей\n",
    "{chr(num): num for num in range(97,123)}"
   ]
  },
  {
   "cell_type": "markdown",
   "metadata": {},
   "source": [
    "### TQDM - Прогресс бар для циклов"
   ]
  },
  {
   "cell_type": "code",
   "execution_count": 75,
   "metadata": {},
   "outputs": [
    {
     "data": {
      "application/vnd.jupyter.widget-view+json": {
       "model_id": "82843424b9cc449e81474f890dee8868",
       "version_major": 2,
       "version_minor": 0
      },
      "text/plain": [
       "  0%|          | 0/1000 [00:00<?, ?it/s]"
      ]
     },
     "metadata": {},
     "output_type": "display_data"
    }
   ],
   "source": [
    "# Прогресс бар \n",
    "from tqdm.auto import tqdm\n",
    "x = [x**y for x in tqdm(range(1000)) for y in range(1000)]"
   ]
  },
  {
   "cell_type": "markdown",
   "metadata": {},
   "source": [
    "# Практика "
   ]
  },
  {
   "cell_type": "code",
   "execution_count": null,
   "metadata": {},
   "outputs": [],
   "source": [
    "# Создайте список  squares из значений последовательности возведеных в квадрат\n",
    "#----- Ваш код здесь ----"
   ]
  },
  {
   "cell_type": "code",
   "execution_count": null,
   "metadata": {},
   "outputs": [],
   "source": [
    "# Создайте матрицу 5 на 5 используя список в списке\n",
    "# С помощью лист комперхеншена\n",
    "#----- Ваш код здесь ----"
   ]
  },
  {
   "cell_type": "code",
   "execution_count": null,
   "metadata": {},
   "outputs": [],
   "source": [
    "# Создайте генератор последовательность элементов от 0 до 30 в \n",
    "# Сохраните ее в переменную result\n",
    "#----- Ваш код здесь ----\n",
    "# Выведите первые 5 элементов result с помощью функции next()\n",
    "#----- Ваш код здесь ----\n",
    "# Выведете оставшиеся элементы с помощью цикла\n",
    "#----- Ваш код здесь ----\n"
   ]
  },
  {
   "cell_type": "code",
   "execution_count": null,
   "metadata": {},
   "outputs": [],
   "source": [
    "# Дан список fellowship \n",
    "fellowship = ['frodo', 'samwise', 'merry', 'aragorn', 'legolas', 'boromir', 'gimli']\n",
    "\n",
    "# Создайте новый список new_fellowship из fellowship если длина элемента больше или равна 7\n",
    "#----- Ваш код здесь ----\n",
    "\n",
    "# Выведите new_fellowship\n",
    "#----- Ваш код здесь ----\n"
   ]
  },
  {
   "cell_type": "code",
   "execution_count": 253,
   "metadata": {},
   "outputs": [],
   "source": [
    "# Данн список строк\n",
    "lannister = ['cersei', 'jaime', 'tywin', 'tyrion', 'joffrey']\n",
    "\n",
    "# Создайте объект генератор из длин елементов списка\n",
    "#----- Ваш код здесь ----\n",
    "\n",
    "# Выведите значения lengths с помощью цикла\n",
    "#----- Ваш код здесь ----"
   ]
  },
  {
   "cell_type": "markdown",
   "metadata": {},
   "source": [
    "### Функции\n",
    "* Если код повторяется - можно написать его функцией"
   ]
  },
  {
   "cell_type": "code",
   "execution_count": 1,
   "metadata": {
    "ExecuteTime": {
     "end_time": "2023-12-08T14:44:28.544926Z",
     "start_time": "2023-12-08T14:44:28.523559Z"
    }
   },
   "outputs": [],
   "source": [
    "def hello_maker():\n",
    "    \"\"\"Функция выдает приветствие и не возвращает ничего\"\"\"\n",
    "    \n",
    "    print('hello')"
   ]
  },
  {
   "cell_type": "code",
   "execution_count": 4,
   "metadata": {
    "ExecuteTime": {
     "end_time": "2023-12-08T14:45:57.849920Z",
     "start_time": "2023-12-08T14:45:57.826861Z"
    }
   },
   "outputs": [],
   "source": [
    "def plus10(x):\n",
    "    \"\"\" Функция добавляет 10 к аргументу и возвращает новое значение \"\"\"\n",
    "\n",
    "    a = x + 10\n",
    "    return a"
   ]
  },
  {
   "cell_type": "code",
   "execution_count": 15,
   "metadata": {},
   "outputs": [
    {
     "name": "stdout",
     "output_type": "stream",
     "text": [
      "hello\n",
      "hello\n",
      "hello\n",
      "hello\n",
      "hello\n",
      "hello\n",
      "hello\n",
      "hello\n",
      "hello\n",
      "hello\n"
     ]
    }
   ],
   "source": [
    "for _ in range(10):\n",
    "    hello_maker()"
   ]
  },
  {
   "cell_type": "code",
   "execution_count": 5,
   "metadata": {
    "ExecuteTime": {
     "end_time": "2023-12-08T14:46:10.460954Z",
     "start_time": "2023-12-08T14:46:10.434501Z"
    }
   },
   "outputs": [],
   "source": [
    "zoo_animals = ['monkey', 'lion', 'elephant', 'bear']\n",
    "\n",
    "def zoo_checker(zoo, animal):\n",
    "    if animal in zoo:\n",
    "        print('{} live in the zoo'.format(animal))\n",
    "    else:\n",
    "        print('{} live in the jungle'.format(animal))"
   ]
  },
  {
   "cell_type": "code",
   "execution_count": 6,
   "metadata": {
    "ExecuteTime": {
     "end_time": "2023-12-08T14:46:12.858437Z",
     "start_time": "2023-12-08T14:46:12.825100Z"
    }
   },
   "outputs": [
    {
     "name": "stdout",
     "output_type": "stream",
     "text": [
      "monkey live in the zoo\n"
     ]
    }
   ],
   "source": [
    "zoo_checker(zoo=['monkey', 'lion', 'elephant', 'bear'], animal='monkey')"
   ]
  },
  {
   "cell_type": "code",
   "execution_count": 7,
   "metadata": {
    "scrolled": true,
    "ExecuteTime": {
     "end_time": "2023-12-08T14:46:14.078109Z",
     "start_time": "2023-12-08T14:46:14.053720Z"
    }
   },
   "outputs": [
    {
     "name": "stdout",
     "output_type": "stream",
     "text": [
      "python live in the jungle\n"
     ]
    }
   ],
   "source": [
    "zoo_checker(zoo_animals, 'python')"
   ]
  },
  {
   "cell_type": "code",
   "execution_count": 8,
   "metadata": {
    "ExecuteTime": {
     "end_time": "2023-12-08T14:46:23.725540Z",
     "start_time": "2023-12-08T14:46:23.701427Z"
    }
   },
   "outputs": [],
   "source": [
    "# Когда мы не знаем все аргументы, которые передаются в функцию\n",
    "def hello_maker2(*args):\n",
    "    for name in args:\n",
    "        print('Hi {}'.format(name))"
   ]
  },
  {
   "cell_type": "code",
   "execution_count": 7,
   "metadata": {},
   "outputs": [
    {
     "name": "stdout",
     "output_type": "stream",
     "text": [
      "Hi Peter\n",
      "Hi John\n",
      "Hi Jack\n",
      "Hi Everybody\n"
     ]
    }
   ],
   "source": [
    "hello_maker2('Peter', 'John', 'Jack', 'Everybody')"
   ]
  },
  {
   "cell_type": "code",
   "execution_count": 8,
   "metadata": {},
   "outputs": [],
   "source": [
    "# В функциях важно прописывать комментарии в docstring\n",
    "def hello_maker2(*args):\n",
    "    \"\"\"\n",
    "    Приветсвует всех по передаваемым в качестве аргументов именам\n",
    "    \"\"\"\n",
    "    \n",
    "    for name in args:\n",
    "        print('Hi {}'.format(name))"
   ]
  },
  {
   "cell_type": "code",
   "execution_count": 120,
   "metadata": {},
   "outputs": [
    {
     "name": "stdout",
     "output_type": "stream",
     "text": [
      "Hi Dude\n"
     ]
    }
   ],
   "source": [
    "hello_maker2('Dude')"
   ]
  },
  {
   "cell_type": "code",
   "execution_count": 36,
   "metadata": {},
   "outputs": [],
   "source": [
    "# Напишите 2 функции, которые будут переводить сообщение посимвольно в цифры и обратно \n",
    "\n",
    "# Используйтпе ord и chr\n",
    "\n",
    "# Должно получиться что-то подобное:\n",
    "# Сообщение: Houston, we have a problem -> [72,111,117,115,..., 32,98,108,101,109]\n",
    "# [72,111,117,115,..., 32,98,108,101,109] -> Houston, we have a problem\n",
    "\n"
   ]
  },
  {
   "cell_type": "markdown",
   "metadata": {},
   "source": [
    "### Анонимные функции "
   ]
  },
  {
   "cell_type": "code",
   "execution_count": 76,
   "metadata": {},
   "outputs": [
    {
     "data": {
      "text/plain": [
       "6"
      ]
     },
     "execution_count": 76,
     "metadata": {},
     "output_type": "execute_result"
    }
   ],
   "source": [
    "lamfunc = lambda x:x*2\n",
    "lamfunc(3)"
   ]
  },
  {
   "cell_type": "code",
   "execution_count": 10,
   "metadata": {},
   "outputs": [
    {
     "data": {
      "text/plain": [
       "10"
      ]
     },
     "execution_count": 10,
     "metadata": {},
     "output_type": "execute_result"
    }
   ],
   "source": [
    "lamfunc_y = lambda x, y: x*2 + y\n",
    "lamfunc_y(3,4)"
   ]
  },
  {
   "cell_type": "code",
   "execution_count": 11,
   "metadata": {},
   "outputs": [
    {
     "data": {
      "text/plain": [
       "[('Гинес', 100), ('Шпатен', 90), ('Хугарден', 70), ('Жигулевское', 10)]"
      ]
     },
     "execution_count": 11,
     "metadata": {},
     "output_type": "execute_result"
    }
   ],
   "source": [
    "# Пример использования лямбда функции для сортировки словаря\n",
    "beers = {'Жигулевское':10, 'Гинес':100, 'Хугарден':70, 'Шпатен':90}\n",
    "sorted(beers.items(), key=lambda x:x[1], reverse=True)"
   ]
  },
  {
   "cell_type": "code",
   "execution_count": null,
   "metadata": {},
   "outputs": [],
   "source": []
  },
  {
   "cell_type": "markdown",
   "metadata": {},
   "source": [
    "### Map"
   ]
  },
  {
   "cell_type": "code",
   "execution_count": 14,
   "metadata": {},
   "outputs": [
    {
     "data": {
      "text/plain": [
       "[1, 4, 9, 16]"
      ]
     },
     "execution_count": 14,
     "metadata": {},
     "output_type": "execute_result"
    }
   ],
   "source": [
    "# map может применить функцию ко всем элеметам списка\n",
    "# Результаы можно выевести в виде списка\n",
    "list(map(lambda x:x**2, [1,2,3,4]))"
   ]
  },
  {
   "cell_type": "code",
   "execution_count": 130,
   "metadata": {},
   "outputs": [
    {
     "data": {
      "text/plain": [
       "(1, 4, 9, 16)"
      ]
     },
     "execution_count": 130,
     "metadata": {},
     "output_type": "execute_result"
    }
   ],
   "source": [
    "# Кортежа\n",
    "tuple(map(lambda x:x**2, [1,2,3,4]))"
   ]
  },
  {
   "cell_type": "code",
   "execution_count": 18,
   "metadata": {},
   "outputs": [
    {
     "data": {
      "text/plain": [
       "{1, 4, 9, 16}"
      ]
     },
     "execution_count": 18,
     "metadata": {},
     "output_type": "execute_result"
    }
   ],
   "source": [
    "# Множества\n",
    "set(map(lambda x:x**2, [1,2,3,4]))"
   ]
  },
  {
   "cell_type": "code",
   "execution_count": 19,
   "metadata": {},
   "outputs": [
    {
     "name": "stdout",
     "output_type": "stream",
     "text": [
      "[0, 0]\n",
      "[1, 2]\n",
      "[4, 4]\n",
      "[9, 6]\n",
      "[16, 8]\n"
     ]
    }
   ],
   "source": [
    "# В map можно передовать список из функций\n",
    "def multiply(x):\n",
    "    return (x*x)\n",
    "\n",
    "def add(x):\n",
    "    return (x+x)\n",
    "\n",
    "funcs = [multiply, add]\n",
    "for i in range(5):\n",
    "    value = list(map(lambda x: x(i), funcs))\n",
    "    print(value)"
   ]
  },
  {
   "cell_type": "markdown",
   "metadata": {},
   "source": [
    "### Filter"
   ]
  },
  {
   "cell_type": "code",
   "execution_count": 40,
   "metadata": {},
   "outputs": [
    {
     "name": "stdout",
     "output_type": "stream",
     "text": [
      "[-5, -4, -3, -2, -1]\n"
     ]
    }
   ],
   "source": [
    "# С помощью filter можно проверять элементы списка на выполнение условий\n",
    "# условие выполняется - True\n",
    "number_list = list(range(-5, 5))\n",
    "less_than_zero = list(filter(lambda x: x < 0, number_list))\n",
    "print(less_than_zero)"
   ]
  },
  {
   "cell_type": "markdown",
   "metadata": {},
   "source": [
    "# zip "
   ]
  },
  {
   "cell_type": "code",
   "execution_count": 104,
   "metadata": {},
   "outputs": [
    {
     "data": {
      "text/plain": [
       "{'Bavaria': 10, 'Corona': 20, 'Ragegast': 30, 'Lambic': 40, 'Perroni': 50}"
      ]
     },
     "execution_count": 104,
     "metadata": {},
     "output_type": "execute_result"
    }
   ],
   "source": [
    "# для создания словарей из 2х списков удобно пользоваться функцией zip\n",
    "alist = [x for x in range(10,60,10)]\n",
    "newdict = dict(zip(beerlist, alist))\n",
    "newdict"
   ]
  }
 ],
 "metadata": {
  "kernelspec": {
   "display_name": "Python 3 (ipykernel)",
   "language": "python",
   "name": "python3"
  },
  "language_info": {
   "codemirror_mode": {
    "name": "ipython",
    "version": 3
   },
   "file_extension": ".py",
   "mimetype": "text/x-python",
   "name": "python",
   "nbconvert_exporter": "python",
   "pygments_lexer": "ipython3",
   "version": "3.9.13"
  }
 },
 "nbformat": 4,
 "nbformat_minor": 2
}
