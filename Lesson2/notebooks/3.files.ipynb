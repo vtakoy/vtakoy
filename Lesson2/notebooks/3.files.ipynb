{
 "cells": [
  {
   "cell_type": "markdown",
   "source": [
    "[![Open In Colab](https://colab.research.google.com/assets/colab-badge.svg)](https://colab.research.google.com/github/4vel/python-intro/blob/main/Lesson2/notebooks/3.files.ipynb)"
   ],
   "metadata": {
    "collapsed": false
   }
  },
  {
   "cell_type": "markdown",
   "metadata": {},
   "source": [
    "# Работа с файлами в Python"
   ]
  },
  {
   "cell_type": "markdown",
   "metadata": {},
   "source": [
    "* Чтение и запись текстовых файлов\n",
    "* Чтение и запись бинарных файлов\n",
    "* Обработка данных в формате JSON\n",
    "* Сериализация объектов pickle\n",
    "* Чтение и запись сжатых файлов\n",
    "* Библиотеки os и shutil \n",
    "* Проверка существования файлов"
   ]
  },
  {
   "cell_type": "markdown",
   "metadata": {},
   "source": [
    "### Чтение и запись текстовых файлов"
   ]
  },
  {
   "cell_type": "code",
   "execution_count": null,
   "metadata": {},
   "outputs": [],
   "source": [
    "%%writefile somefile.txt\n",
    "some text"
   ]
  },
  {
   "cell_type": "code",
   "execution_count": 2,
   "metadata": {},
   "outputs": [],
   "source": [
    "# Чтение файлов\n",
    "f = open('somefile.txt', 'r')\n",
    "data = f.read()\n",
    "f.close()"
   ]
  },
  {
   "cell_type": "code",
   "execution_count": null,
   "metadata": {},
   "outputs": [],
   "source": []
  },
  {
   "cell_type": "code",
   "execution_count": 4,
   "metadata": {},
   "outputs": [],
   "source": [
    "# Запись файлов с помощью write \n",
    "# write принимает на вход строку\n",
    "text1 = 'Blah-Blah-Blah'\n",
    "f = open('somefile_new.txt', 'w')\n",
    "f.write(text1)\n",
    "f.close()"
   ]
  },
  {
   "cell_type": "code",
   "execution_count": 6,
   "metadata": {},
   "outputs": [],
   "source": [
    "#  Запись файлов с помощью writelines\n",
    "# writelines принимает список\n",
    "text1 = 'Blah-Blah-Blah'\n",
    "text2 = 'Blah-Blah-Blah'\n",
    "texts = [text1,text2]\n",
    "f = open('somefile_new.txt', 'w')\n",
    "f.writelines(texts)\n",
    "f.close()"
   ]
  },
  {
   "cell_type": "code",
   "execution_count": 7,
   "metadata": {},
   "outputs": [
    {
     "name": "stdout",
     "output_type": "stream",
     "text": [
      "Blah-Blah-BlahBlah-Blah-Blah"
     ]
    }
   ],
   "source": [
    "!cat somefile_new.txt"
   ]
  },
  {
   "cell_type": "code",
   "execution_count": 68,
   "metadata": {},
   "outputs": [],
   "source": [
    "# Важно! Разделители нужно ставить самостоятельно :)\n",
    "texts = [text1,text2]\n",
    "f = open('somefile_new.txt', 'w')\n",
    "f.writelines([t + '\\n' for  t in texts])\n",
    "f.close()"
   ]
  },
  {
   "cell_type": "code",
   "execution_count": 69,
   "metadata": {},
   "outputs": [
    {
     "name": "stdout",
     "output_type": "stream",
     "text": [
      "Blah-Blah-Blah\r\n",
      "Blah-Blah-BlahBlah-Blah-Blah\r\n"
     ]
    }
   ],
   "source": [
    "# проверим что внутри somefile_new.txt\n",
    "!cat somefile_new.txt"
   ]
  },
  {
   "cell_type": "code",
   "execution_count": 34,
   "metadata": {},
   "outputs": [],
   "source": [
    "lines = []\n",
    "with open('somefile.txt', 'rt') as f: \n",
    "    for line in f:\n",
    "        lines.append(line)\n",
    "lines"
   ]
  },
  {
   "cell_type": "code",
   "execution_count": 36,
   "metadata": {},
   "outputs": [],
   "source": [
    "# Пишем кусочки текстовых данных\n",
    "text1 = 'Blah-Blah-Blah'\n",
    "text2 = text1 * 2\n",
    "with open('somefile_new.txt', 'wt') as f:\n",
    "    f.write(text1)\n",
    "    f.write(text2)"
   ]
  },
  {
   "cell_type": "code",
   "execution_count": 37,
   "metadata": {},
   "outputs": [],
   "source": [
    "# Добавляем текст в файл\n",
    "with open('somefile_new.txt', 'a') as f:\n",
    "    f.write(text1)\n",
    "    f.write(text2)"
   ]
  },
  {
   "cell_type": "code",
   "execution_count": null,
   "metadata": {},
   "outputs": [],
   "source": [
    "# Записываем текст в файл\n",
    "with open('somefile_new.txt', 'wt') as f:\n",
    "    f.write(text1)\n",
    "    f.write(text2)"
   ]
  },
  {
   "cell_type": "code",
   "execution_count": 39,
   "metadata": {},
   "outputs": [],
   "source": [
    "# Перенаправленная инструкция print для записи в файл\n",
    "line1 = text1 \n",
    "line2 = text2 \n",
    "with open('somefile_new.txt', 'wt') as f:\n",
    "    print(line1, file=f)\n",
    "    print(line2, file=f)"
   ]
  },
  {
   "cell_type": "code",
   "execution_count": 116,
   "metadata": {},
   "outputs": [],
   "source": [
    "# Перенаправленная инструкция print с разделителем\n",
    "with open('somefile_new.txt', 'wt') as f:\n",
    "    print(line1, 90, 20, sep=',', file=f)\n",
    "    print(line1, 90, 20, sep=',', file=f)"
   ]
  },
  {
   "cell_type": "code",
   "execution_count": 104,
   "metadata": {},
   "outputs": [
    {
     "name": "stdout",
     "output_type": "stream",
     "text": [
      "Blah-Blah-Blah,90,20\r\n",
      "Blah-Blah-Blah,90,20\r\n"
     ]
    }
   ],
   "source": [
    "!cat somefile_new.txt"
   ]
  },
  {
   "cell_type": "code",
   "execution_count": 105,
   "metadata": {},
   "outputs": [
    {
     "name": "stdout",
     "output_type": "stream",
     "text": [
      "0\n",
      "1\n",
      "2\n",
      "3\n",
      "4\n"
     ]
    }
   ],
   "source": [
    "# В print можно менять знаки окончания строки\n",
    "for i in range(5): \n",
    "    print(i)\n",
    "#     print(i , end='\\n')\n"
   ]
  },
  {
   "cell_type": "code",
   "execution_count": 106,
   "metadata": {},
   "outputs": [
    {
     "name": "stdout",
     "output_type": "stream",
     "text": [
      "0 1 2 3 4 "
     ]
    }
   ],
   "source": [
    "for i in range(5): \n",
    "    print(i, end=' ')"
   ]
  },
  {
   "cell_type": "markdown",
   "metadata": {},
   "source": [
    "# Чтение и запись бинарных файлов"
   ]
  },
  {
   "cell_type": "code",
   "execution_count": 141,
   "metadata": {},
   "outputs": [],
   "source": [
    "# Записать бинарные данные в файл\n",
    "with open('somefile.bin', 'wb') as f:\n",
    "    f.write(b'Hello World')"
   ]
  },
  {
   "cell_type": "code",
   "execution_count": 142,
   "metadata": {},
   "outputs": [],
   "source": [
    "# Прочесть весь файл как одну байтовую строку\n",
    "with open('somefile.bin', 'rb') as f: \n",
    "    data = f.read()"
   ]
  },
  {
   "cell_type": "code",
   "execution_count": 146,
   "metadata": {},
   "outputs": [
    {
     "name": "stdout",
     "output_type": "stream",
     "text": [
      "72\n",
      "101\n",
      "108\n",
      "108\n",
      "111\n",
      "32\n",
      "87\n",
      "111\n",
      "114\n",
      "108\n",
      "100\n"
     ]
    }
   ],
   "source": [
    "for el in data:\n",
    "    print(el)"
   ]
  },
  {
   "cell_type": "markdown",
   "metadata": {},
   "source": [
    "# Pickle"
   ]
  },
  {
   "cell_type": "code",
   "execution_count": 8,
   "metadata": {},
   "outputs": [],
   "source": [
    "# пикл сериализует объекты python в бинарные файлы\n",
    "import pickle\n",
    "very_important_list = [1,3,4,5,6]"
   ]
  },
  {
   "cell_type": "code",
   "execution_count": 9,
   "metadata": {},
   "outputs": [],
   "source": [
    "fpath = 'vil.pkl'\n",
    "with open(fpath, 'wb') as f:\n",
    "    pickle.dump(very_important_list,f)"
   ]
  },
  {
   "cell_type": "code",
   "execution_count": 11,
   "metadata": {
    "scrolled": false
   },
   "outputs": [
    {
     "name": "stdout",
     "output_type": "stream",
     "text": [
      "\u001B[31m1.intro.ipynb\u001B[m\u001B[m      \u001B[31m5.modul.ipynb\u001B[m\u001B[m      \u001B[31msomefile.bz2\u001B[m\u001B[m       \u001B[31msomefile2.zip\u001B[m\u001B[m\r\n",
      "\u001B[31m2.loops.ipynb\u001B[m\u001B[m      \u001B[31m6.decorator.ipynb\u001B[m\u001B[m  \u001B[31msomefile.gz\u001B[m\u001B[m        somefile_new.txt\r\n",
      "\u001B[31m3.files.ipynb\u001B[m\u001B[m      \u001B[31mdata.json\u001B[m\u001B[m          \u001B[31msomefile.txt\u001B[m\u001B[m       \u001B[31mvil.pkl\u001B[m\u001B[m\r\n",
      "\u001B[31m4.exceptions.ipynb\u001B[m\u001B[m \u001B[31msomefile.bin\u001B[m\u001B[m       \u001B[31msomefile.zip\u001B[m\u001B[m\r\n"
     ]
    }
   ],
   "source": [
    "!ls"
   ]
  },
  {
   "cell_type": "code",
   "execution_count": 12,
   "metadata": {},
   "outputs": [],
   "source": [
    "with open(fpath, 'rb') as f:\n",
    "    new_very_important_list = pickle.load(f)"
   ]
  },
  {
   "cell_type": "code",
   "execution_count": 13,
   "metadata": {},
   "outputs": [
    {
     "data": {
      "text/plain": [
       "[1, 3, 4, 5, 6]"
      ]
     },
     "execution_count": 13,
     "metadata": {},
     "output_type": "execute_result"
    }
   ],
   "source": [
    "new_very_important_list"
   ]
  },
  {
   "cell_type": "markdown",
   "metadata": {},
   "source": [
    "# Чтение и запись сжатых файлов"
   ]
  },
  {
   "cell_type": "code",
   "execution_count": 150,
   "metadata": {},
   "outputs": [],
   "source": [
    "import gzip\n",
    "import bz2"
   ]
  },
  {
   "cell_type": "code",
   "execution_count": 165,
   "metadata": {},
   "outputs": [],
   "source": [
    "# Сжатие с помощью gzip\n",
    "text = 'bla-bla-bla ' * 5\n",
    "with gzip.open('somefile.gz', 'wt') as f:\n",
    "    f.write(text)"
   ]
  },
  {
   "cell_type": "code",
   "execution_count": 166,
   "metadata": {},
   "outputs": [
    {
     "data": {
      "text/plain": [
       "'bla-bla-bla bla-bla-bla bla-bla-bla bla-bla-bla bla-bla-bla '"
      ]
     },
     "execution_count": 166,
     "metadata": {},
     "output_type": "execute_result"
    }
   ],
   "source": [
    "# Распаковка\n",
    "with gzip.open('somefile.gz', 'rt') as f:\n",
    "    newtext = f.read()\n",
    "newtext"
   ]
  },
  {
   "cell_type": "code",
   "execution_count": 162,
   "metadata": {},
   "outputs": [],
   "source": [
    "# Сжатие с помощью bz2\n",
    "text = 'bla-bla-bla ' * 3\n",
    "with bz2.open('somefile.bz2', 'wt') as f:\n",
    "    f.write(text)"
   ]
  },
  {
   "cell_type": "code",
   "execution_count": 163,
   "metadata": {},
   "outputs": [],
   "source": [
    "# Распаковка\n",
    "with bz2.open('somefile.bz2', 'rt') as f:\n",
    "    new_text = f.read()\n",
    "new_text"
   ]
  },
  {
   "cell_type": "code",
   "execution_count": 185,
   "metadata": {},
   "outputs": [],
   "source": [
    "# Для ZIP архивов можно использовать библиотеку zipfile\n",
    "\n",
    "import zipfile\n",
    "zf = zipfile.ZipFile('somefile.zip', 'w')\n",
    "zf.write('somefile.txt')\n",
    "zf.close()"
   ]
  },
  {
   "cell_type": "code",
   "execution_count": 186,
   "metadata": {},
   "outputs": [],
   "source": [
    "# Архивируем\n",
    "with zipfile.ZipFile('somefile2.zip', 'w') as zf:\n",
    "    zf.write('somefile.txt')"
   ]
  },
  {
   "cell_type": "code",
   "execution_count": 183,
   "metadata": {},
   "outputs": [],
   "source": [
    "# Извлекаем из архива\n",
    "fzip = zipfile.ZipFile('somefile2.zip')\n",
    "fzip.extract(fzip.namelist()[0])\n",
    "fzip.close()"
   ]
  },
  {
   "cell_type": "markdown",
   "metadata": {},
   "source": [
    "# JSON\n",
    "* сын Джея\n",
    "* java script object notation"
   ]
  },
  {
   "cell_type": "code",
   "execution_count": 15,
   "metadata": {},
   "outputs": [],
   "source": [
    "# JSON - это формат для передачи данных из разных систем\n",
    "import json\n",
    "data = {\n",
    "    'name' : 'Vasya',\n",
    "    'age' : 50,\n",
    "    'sex' : 'M',\n",
    "    'status':True\n",
    "    }\n",
    "json_str = json.dumps(data)"
   ]
  },
  {
   "cell_type": "code",
   "execution_count": 16,
   "metadata": {},
   "outputs": [
    {
     "data": {
      "text/plain": [
       "'{\"name\": \"Vasya\", \"age\": 50, \"sex\": \"M\", \"status\": true}'"
      ]
     },
     "execution_count": 16,
     "metadata": {},
     "output_type": "execute_result"
    }
   ],
   "source": [
    "json_str"
   ]
  },
  {
   "cell_type": "code",
   "execution_count": 17,
   "metadata": {},
   "outputs": [],
   "source": [
    "# Запись JSON-данных\n",
    "with open('data.json', 'w') as f:\n",
    "    json.dump(data, f)"
   ]
  },
  {
   "cell_type": "code",
   "execution_count": 18,
   "metadata": {},
   "outputs": [
    {
     "name": "stdout",
     "output_type": "stream",
     "text": [
      "\u001B[31m1.intro.ipynb\u001B[m\u001B[m      \u001B[31m5.modul.ipynb\u001B[m\u001B[m      \u001B[31msomefile.bz2\u001B[m\u001B[m       \u001B[31msomefile2.zip\u001B[m\u001B[m\r\n",
      "\u001B[31m2.loops.ipynb\u001B[m\u001B[m      \u001B[31m6.decorator.ipynb\u001B[m\u001B[m  \u001B[31msomefile.gz\u001B[m\u001B[m        somefile_new.txt\r\n",
      "\u001B[31m3.files.ipynb\u001B[m\u001B[m      \u001B[31mdata.json\u001B[m\u001B[m          \u001B[31msomefile.txt\u001B[m\u001B[m       \u001B[31mvil.pkl\u001B[m\u001B[m\r\n",
      "\u001B[31m4.exceptions.ipynb\u001B[m\u001B[m \u001B[31msomefile.bin\u001B[m\u001B[m       \u001B[31msomefile.zip\u001B[m\u001B[m\r\n"
     ]
    }
   ],
   "source": [
    "!ls"
   ]
  },
  {
   "cell_type": "code",
   "execution_count": 19,
   "metadata": {},
   "outputs": [],
   "source": [
    "# Чтение данных\n",
    "with open('data.json', 'r') as f:\n",
    "    data = json.load(f)"
   ]
  },
  {
   "cell_type": "code",
   "execution_count": 193,
   "metadata": {},
   "outputs": [],
   "source": [
    "# Синтаксис JSON очень похож синтаксис в Python\n",
    "# True при отображении меняется на true, False – на false,а None – на null."
   ]
  },
  {
   "cell_type": "code",
   "execution_count": null,
   "metadata": {},
   "outputs": [],
   "source": []
  },
  {
   "cell_type": "code",
   "execution_count": null,
   "metadata": {},
   "outputs": [],
   "source": []
  },
  {
   "cell_type": "markdown",
   "metadata": {},
   "source": [
    "# os и shutil"
   ]
  },
  {
   "cell_type": "code",
   "execution_count": 22,
   "metadata": {},
   "outputs": [],
   "source": [
    "import os"
   ]
  },
  {
   "cell_type": "code",
   "execution_count": 24,
   "metadata": {
    "scrolled": true
   },
   "outputs": [
    {
     "data": {
      "text/plain": [
       "['vil.pkl',\n",
       " 'somefile2.zip',\n",
       " '4.exceptions.ipynb',\n",
       " 'somefile_new.txt',\n",
       " 'somefile.bin',\n",
       " '.DS_Store',\n",
       " 'somefile.txt',\n",
       " 'somefile.bz2',\n",
       " 'data.json',\n",
       " '1.intro.ipynb',\n",
       " 'somefile.zip',\n",
       " '6.decorator.ipynb',\n",
       " '3.files.ipynb',\n",
       " '.ipynb_checkpoints',\n",
       " '5.modul.ipynb',\n",
       " 'somefile.gz',\n",
       " '2.loops.ipynb']"
      ]
     },
     "execution_count": 24,
     "metadata": {},
     "output_type": "execute_result"
    }
   ],
   "source": [
    "# Выдает список содержимого директории\n",
    "os.listdir()"
   ]
  },
  {
   "cell_type": "code",
   "execution_count": 25,
   "metadata": {},
   "outputs": [],
   "source": [
    "# Создает директорию\n",
    "os.mkdir('test')"
   ]
  },
  {
   "cell_type": "code",
   "execution_count": 26,
   "metadata": {},
   "outputs": [],
   "source": [
    "# Удаляет директорию\n",
    "os.rmdir('test')"
   ]
  },
  {
   "cell_type": "code",
   "execution_count": 53,
   "metadata": {
    "scrolled": true
   },
   "outputs": [],
   "source": [
    "# Если нужно пройтись по дереву каталога можно использовать os.walk\n",
    "# for el in os.walk('test'):\n",
    "#     print(el)"
   ]
  },
  {
   "cell_type": "code",
   "execution_count": 27,
   "metadata": {},
   "outputs": [
    {
     "data": {
      "text/plain": [
       "'../img/file.txt'"
      ]
     },
     "execution_count": 27,
     "metadata": {},
     "output_type": "execute_result"
    }
   ],
   "source": [
    "# Если нужно склеить путь к файлу или директории\n",
    "os.path.join('..','img','file.txt')"
   ]
  },
  {
   "cell_type": "code",
   "execution_count": 14,
   "metadata": {},
   "outputs": [
    {
     "data": {
      "text/plain": [
       "False"
      ]
     },
     "execution_count": 14,
     "metadata": {},
     "output_type": "execute_result"
    }
   ],
   "source": [
    "# Используйте os.path, чтобы проверить, существует ли файл или каталог. Напри- мер:\n",
    "os.path.exists('img') \n",
    "os.path.exists('img/spam')\n"
   ]
  },
  {
   "cell_type": "code",
   "execution_count": 15,
   "metadata": {},
   "outputs": [
    {
     "data": {
      "text/plain": [
       "False"
      ]
     },
     "execution_count": 15,
     "metadata": {},
     "output_type": "execute_result"
    }
   ],
   "source": [
    "# Вы можете выполнить дополнительные тесты, чтобы проверить тип файла. Эти проверки возвращают False, если файл не существует:\n",
    "# Это обычный файл?\n",
    "os.path.isfile('img')\n"
   ]
  },
  {
   "cell_type": "code",
   "execution_count": 16,
   "metadata": {},
   "outputs": [
    {
     "data": {
      "text/plain": [
       "True"
      ]
     },
     "execution_count": 16,
     "metadata": {},
     "output_type": "execute_result"
    }
   ],
   "source": [
    "# Это каталог?\n",
    "os.path.isdir('img')\n"
   ]
  },
  {
   "cell_type": "code",
   "execution_count": 22,
   "metadata": {},
   "outputs": [
    {
     "data": {
      "text/plain": [
       "91132"
      ]
     },
     "execution_count": 22,
     "metadata": {},
     "output_type": "execute_result"
    }
   ],
   "source": [
    "# Если вам нужно получить метаданные (например, размер или дату изменения файла)\n",
    "# это тоже можно сделать с помощью модуля os.path:\n",
    "os.path.getsize('img/jay.jpeg')"
   ]
  },
  {
   "cell_type": "code",
   "execution_count": 23,
   "metadata": {},
   "outputs": [
    {
     "data": {
      "text/plain": [
       "1567432372.2145486"
      ]
     },
     "execution_count": 23,
     "metadata": {},
     "output_type": "execute_result"
    }
   ],
   "source": [
    "os.path.getmtime('img')"
   ]
  },
  {
   "cell_type": "code",
   "execution_count": 24,
   "metadata": {},
   "outputs": [
    {
     "data": {
      "text/plain": [
       "'Mon Sep  2 16:52:52 2019'"
      ]
     },
     "execution_count": 24,
     "metadata": {},
     "output_type": "execute_result"
    }
   ],
   "source": [
    "import time\n",
    "time.ctime(os.path.getmtime('img'))"
   ]
  },
  {
   "cell_type": "markdown",
   "metadata": {},
   "source": [
    "# shutil"
   ]
  },
  {
   "cell_type": "code",
   "execution_count": 87,
   "metadata": {},
   "outputs": [],
   "source": [
    "import shutil"
   ]
  },
  {
   "cell_type": "code",
   "execution_count": null,
   "metadata": {},
   "outputs": [],
   "source": [
    "# Для премещения файлов можно использовать shutil.move\n",
    "# shutil.move(src, dst)"
   ]
  },
  {
   "cell_type": "code",
   "execution_count": null,
   "metadata": {},
   "outputs": [],
   "source": [
    "# Для компирования можно воспользоваться одной из нескольких функций\n",
    "# shutil.copy(src, dst)  - копирует содержимое файла\n",
    "# shutil.copytree(src, dst)  - копирует содержимое директории"
   ]
  },
  {
   "cell_type": "code",
   "execution_count": 46,
   "metadata": {},
   "outputs": [],
   "source": [
    "# Если директория не пуста, то для ее удаления лучше использовать rmtree из shutil\n",
    "# shutil.rmtree('test')"
   ]
  },
  {
   "cell_type": "code",
   "execution_count": 112,
   "metadata": {},
   "outputs": [
    {
     "name": "stdout",
     "output_type": "stream",
     "text": [
      "Lesson_3.ipynb       \u001B[34mimg\u001B[m\u001B[m                  somefile.txt\r\n",
      "\u001B[34mdata\u001B[m\u001B[m                 medal_on_sheets.xlsx vil.pkl\r\n",
      "data.json            medals.xlsx\r\n"
     ]
    }
   ],
   "source": [
    "!ls"
   ]
  },
  {
   "cell_type": "code",
   "execution_count": 113,
   "metadata": {},
   "outputs": [],
   "source": [
    "# Создадим директории\n",
    "os.mkdir('test_dir1')\n",
    "os.mkdir('test_dir2')"
   ]
  },
  {
   "cell_type": "code",
   "execution_count": 117,
   "metadata": {},
   "outputs": [
    {
     "data": {
      "text/plain": [
       "'test_dir1/somefile_new.txt'"
      ]
     },
     "execution_count": 117,
     "metadata": {},
     "output_type": "execute_result"
    }
   ],
   "source": [
    "# Перенесем файл\n",
    "shutil.move('somefile_new.txt', 'test_dir1/somefile_new.txt')"
   ]
  },
  {
   "cell_type": "code",
   "execution_count": 118,
   "metadata": {},
   "outputs": [
    {
     "data": {
      "text/plain": [
       "'test_dir2/somefile_new.txt'"
      ]
     },
     "execution_count": 118,
     "metadata": {},
     "output_type": "execute_result"
    }
   ],
   "source": [
    "# Скопируем файл\n",
    "shutil.copy('test_dir1/somefile_new.txt', 'test_dir2/somefile_new.txt') "
   ]
  },
  {
   "cell_type": "code",
   "execution_count": 119,
   "metadata": {},
   "outputs": [
    {
     "data": {
      "text/plain": [
       "'test_dir3'"
      ]
     },
     "execution_count": 119,
     "metadata": {},
     "output_type": "execute_result"
    }
   ],
   "source": [
    "# Скопируем директорию и ее содержимое\n",
    "shutil.copytree('test_dir2', 'test_dir3') "
   ]
  },
  {
   "cell_type": "code",
   "execution_count": 120,
   "metadata": {},
   "outputs": [],
   "source": [
    "# Удалим то, что мы создали\n",
    "shutil.rmtree('test_dir1')\n",
    "shutil.rmtree('test_dir2')\n",
    "shutil.rmtree('test_dir3')"
   ]
  },
  {
   "cell_type": "markdown",
   "metadata": {},
   "source": [
    "# Практическая часть"
   ]
  },
  {
   "cell_type": "code",
   "execution_count": null,
   "metadata": {},
   "outputs": [],
   "source": [
    "# 1. Создайте директорию poems\n",
    "#----- Ваш код здесь ----"
   ]
  },
  {
   "cell_type": "code",
   "execution_count": 222,
   "metadata": {},
   "outputs": [],
   "source": [
    "# 2. Создайте в ней файл pushkin.txt, в который запишите text_task\n",
    "text_task = \"\"\"\n",
    "Я помню чудное мгновенье:\n",
    "Передо мной явилась ты,\n",
    "Как мимолетное виденье,\n",
    "Как гений чистой красоты.\n",
    "\"\"\"\n",
    "#----- Ваш код здесь ----"
   ]
  },
  {
   "cell_type": "code",
   "execution_count": null,
   "metadata": {},
   "outputs": [],
   "source": [
    "# 3. Удалите директорию poems\n",
    "#----- Ваш код здесь ----"
   ]
  }
 ],
 "metadata": {
  "kernelspec": {
   "display_name": "Python 3 (ipykernel)",
   "language": "python",
   "name": "python3"
  },
  "language_info": {
   "codemirror_mode": {
    "name": "ipython",
    "version": 3
   },
   "file_extension": ".py",
   "mimetype": "text/x-python",
   "name": "python",
   "nbconvert_exporter": "python",
   "pygments_lexer": "ipython3",
   "version": "3.9.13"
  }
 },
 "nbformat": 4,
 "nbformat_minor": 2
}
