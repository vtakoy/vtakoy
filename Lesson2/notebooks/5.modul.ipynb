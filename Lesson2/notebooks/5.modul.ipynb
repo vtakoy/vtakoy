{
 "cells": [
  {
   "cell_type": "markdown",
   "source": [
    "[![Open In Colab](https://colab.research.google.com/assets/colab-badge.svg)](https://colab.research.google.com/github/4vel/python-intro/blob/main/Lesson2/notebooks/5.modul.ipynb)"
   ],
   "metadata": {
    "collapsed": false
   }
  },
  {
   "cell_type": "markdown",
   "metadata": {},
   "source": [
    "# Модули и пакеты\n",
    "* Создание собственного модуля\n",
    "* Создание пакета\n",
    "* Подсистема pip\n",
    "* Краткий обзор стандартной библиотеки\n",
    "* Установка стороннего модуля"
   ]
  },
  {
   "cell_type": "markdown",
   "metadata": {},
   "source": [
    "# Скрипт или модуль ?"
   ]
  },
  {
   "cell_type": "markdown",
   "metadata": {},
   "source": [
    "* Скрипт - это файл с программой, который запускается автономно\n",
    "* Модуль - это файл, который подгружается, чтобы расширить функциональные возмжоности скрипта(программы)"
   ]
  },
  {
   "cell_type": "code",
   "execution_count": 11,
   "metadata": {},
   "outputs": [
    {
     "name": "stdout",
     "output_type": "stream",
     "text": [
      "Overwriting myscript.py\n"
     ]
    }
   ],
   "source": [
    "%%writefile myscript.py\n",
    "def print_hello():\n",
    "    print('hello hello')\n",
    "    "
   ]
  },
  {
   "cell_type": "code",
   "execution_count": 12,
   "metadata": {},
   "outputs": [],
   "source": [
    "import myscript\n",
    "# from myscript import print_hello"
   ]
  },
  {
   "cell_type": "code",
   "execution_count": 10,
   "metadata": {},
   "outputs": [],
   "source": [
    "import importlib"
   ]
  },
  {
   "cell_type": "code",
   "execution_count": 16,
   "metadata": {},
   "outputs": [
    {
     "name": "stdout",
     "output_type": "stream",
     "text": [
      "hello hello\n"
     ]
    }
   ],
   "source": [
    "importlib.reload(myscript)\n",
    "myscript.print_hello()"
   ]
  },
  {
   "cell_type": "code",
   "execution_count": 5,
   "metadata": {},
   "outputs": [
    {
     "name": "stdout",
     "output_type": "stream",
     "text": [
      "Lesson_4.ipynb \u001B[34mimg\u001B[m\u001B[m            my_script.py   my_script3.py  somescript.py\r\n",
      "\u001B[34m__pycache__\u001B[m\u001B[m    my_module.py   my_script2.py  price.html\r\n"
     ]
    }
   ],
   "source": [
    "!ls my_script3.py"
   ]
  },
  {
   "cell_type": "code",
   "execution_count": null,
   "metadata": {},
   "outputs": [],
   "source": [
    "my_script3.py"
   ]
  },
  {
   "cell_type": "markdown",
   "metadata": {},
   "source": [
    "# Модуль или пакет?"
   ]
  },
  {
   "cell_type": "markdown",
   "metadata": {},
   "source": [
    "* модуль - это файл с набором функций\n",
    "* пакет - это каталог с одним и более модулями"
   ]
  },
  {
   "cell_type": "code",
   "execution_count": 3,
   "metadata": {},
   "outputs": [],
   "source": [
    "# Пакеты и модули подгружаются командой import\n",
    "# Это можно сделать только 1 раз\n",
    "import pandas"
   ]
  },
  {
   "cell_type": "code",
   "execution_count": 4,
   "metadata": {},
   "outputs": [],
   "source": [
    "# Подгружаемый модуль можно назвать так чтобы было удобно кодить\n",
    "import pandas as pd"
   ]
  },
  {
   "cell_type": "code",
   "execution_count": 5,
   "metadata": {},
   "outputs": [],
   "source": [
    "# Отдельные объекты из пакета можно выгрузить с помощью from ... import ...\n",
    "from datetime import datetime as dt"
   ]
  },
  {
   "cell_type": "code",
   "execution_count": 6,
   "metadata": {},
   "outputs": [],
   "source": [
    "from my_script3 import print_hello"
   ]
  },
  {
   "cell_type": "code",
   "execution_count": 7,
   "metadata": {},
   "outputs": [
    {
     "name": "stdout",
     "output_type": "stream",
     "text": [
      "hello\n"
     ]
    }
   ],
   "source": [
    "print_hello()"
   ]
  },
  {
   "cell_type": "code",
   "execution_count": 26,
   "metadata": {},
   "outputs": [],
   "source": [
    "# Из своего модуля можно также выгрузить нужный объект\n",
    "from my_module import print_boo"
   ]
  },
  {
   "cell_type": "code",
   "execution_count": 1,
   "metadata": {},
   "outputs": [],
   "source": [
    "# Когда мы хотим выгрузить из модуля все, то используем *\n",
    "# Важно! это противоречит дзену питона \n",
    "from my_module import *"
   ]
  },
  {
   "cell_type": "code",
   "execution_count": null,
   "metadata": {},
   "outputs": [],
   "source": [
    "# В пакете могут быть еще пакеты, например:\n",
    "from sklearn.metrics.pairwise import cosine_similarity"
   ]
  },
  {
   "cell_type": "markdown",
   "metadata": {},
   "source": [
    "\n",
    "<a href=https://scikit-learn.org/stable/modules/classes.html#module-sklearn.base>Подробнее о scikit-learn</a>"
   ]
  },
  {
   "cell_type": "markdown",
   "metadata": {},
   "source": [
    "# Поиск модулей "
   ]
  },
  {
   "cell_type": "markdown",
   "metadata": {},
   "source": [
    "* домашняя директория\n",
    "* директории, указанные в переменной окружения PYTHONPATH\n",
    "* директории Standard library\n",
    "* пути прописанные в .pth файлах\n",
    "* пакеты сторонних разработчиков"
   ]
  },
  {
   "cell_type": "code",
   "execution_count": 22,
   "metadata": {},
   "outputs": [
    {
     "data": {
      "text/plain": [
       "['/Users/lev4/Projects/reboot/python_for_da_course/Lesson1/notebooks',\n",
       " '/Users/lev4/opt/anaconda3/lib/python38.zip',\n",
       " '/Users/lev4/opt/anaconda3/lib/python3.8',\n",
       " '/Users/lev4/opt/anaconda3/lib/python3.8/lib-dynload',\n",
       " '',\n",
       " '/Users/lev4/Projects/reboot/python_for_da_course/venv/lib/python3.8/site-packages',\n",
       " '/Users/lev4/Projects/reboot/python_for_da_course/venv/lib/python3.8/site-packages/IPython/extensions',\n",
       " '/Users/lev4/.ipython',\n",
       " '..',\n",
       " '..',\n",
       " '../..']"
      ]
     },
     "execution_count": 22,
     "metadata": {},
     "output_type": "execute_result"
    }
   ],
   "source": [
    "import sys\n",
    "sys.path"
   ]
  },
  {
   "cell_type": "code",
   "execution_count": 21,
   "metadata": {},
   "outputs": [],
   "source": [
    "sys.path.extend(['..','../..'])"
   ]
  },
  {
   "cell_type": "markdown",
   "metadata": {},
   "source": [
    "# Краткий обзор стандартной библиотеки"
   ]
  },
  {
   "cell_type": "markdown",
   "metadata": {},
   "source": [
    "<a href=https://docs.python.org/3/library/index.html>Подробнее о Стандартной библиотеке</a>"
   ]
  },
  {
   "cell_type": "code",
   "execution_count": null,
   "metadata": {},
   "outputs": [],
   "source": [
    "# pip install .  \n",
    "# из директории в которой находится setup.py"
   ]
  },
  {
   "cell_type": "markdown",
   "metadata": {},
   "source": [
    "# Что такое pip?"
   ]
  },
  {
   "cell_type": "markdown",
   "metadata": {},
   "source": [
    "* python install package"
   ]
  },
  {
   "cell_type": "markdown",
   "metadata": {},
   "source": [
    "Большинство пакетов устанавливается с помощью команды pip install из консоли <br>\n",
    " pip install названиебиблиотеки\n"
   ]
  },
  {
   "cell_type": "markdown",
   "metadata": {},
   "source": [
    "* Чтобы установить свой пакет нужно в папке с модулями создать пустой файл __init__.py\n",
    "* в директории, где находится каталог пакета создать файл setup.py\n",
    "* установить свой пакет можно с помощью команды pip install .\n",
    "* пример setup.py\n",
    "<hr>"
   ]
  },
  {
   "cell_type": "markdown",
   "metadata": {},
   "source": [
    "from setuptools import setup <br>\n",
    "<br>\n",
    "setup(name='yourpkgname',  <br> \n",
    "    version='0.0.1',<br>\n",
    "    description='This package make people more happy', <br>\n",
    "    author_email = 'donald_trump@mail.ru', <br>\n",
    "    packages=['black'], <br>\n",
    "    install_requires = ['pandas'])<br>\n",
    "<hr>"
   ]
  },
  {
   "cell_type": "markdown",
   "metadata": {},
   "source": [
    "* name - это название модуля\n",
    "* version - версия \n",
    "* description - описание\n",
    "* author_email - почта автора\n",
    "* packages - каталоги входящие в пакет\n",
    "* install_requires - другие пакеты, которые нужны для работы этого пакета"
   ]
  },
  {
   "cell_type": "markdown",
   "metadata": {},
   "source": [
    "<hr>\n",
    "from setuptools import setup, find_packages<br>\n",
    "setup(name='foo',<br>\n",
    "      version='1.0',<br>\n",
    "      packages=find_packages(),<br>\n",
    "      )<br>"
   ]
  },
  {
   "cell_type": "markdown",
   "metadata": {},
   "source": [
    "# Практическая часть"
   ]
  },
  {
   "cell_type": "code",
   "execution_count": 55,
   "metadata": {},
   "outputs": [],
   "source": [
    "# Написать скрипт, который принимает в качестве аргументов длину и ширину\n",
    "# Рассчитвает площадь и выдает значение площади\n"
   ]
  },
  {
   "cell_type": "code",
   "execution_count": 5,
   "metadata": {},
   "outputs": [],
   "source": [
    "def area_calc(a,b):\n",
    "    area = a * b\n",
    "    return area"
   ]
  },
  {
   "cell_type": "code",
   "execution_count": null,
   "metadata": {},
   "outputs": [],
   "source": []
  },
  {
   "cell_type": "code",
   "execution_count": null,
   "metadata": {},
   "outputs": [],
   "source": []
  },
  {
   "cell_type": "code",
   "execution_count": null,
   "metadata": {
    "scrolled": true
   },
   "outputs": [],
   "source": []
  },
  {
   "cell_type": "code",
   "execution_count": null,
   "metadata": {},
   "outputs": [],
   "source": [
    "# Написать модуль, который можно будет подгрузить в ноутбук для расчета площади"
   ]
  },
  {
   "cell_type": "code",
   "execution_count": 39,
   "metadata": {},
   "outputs": [],
   "source": [
    "# Создать пакет из которого можно будет подгрузить данный модуль"
   ]
  }
 ],
 "metadata": {
  "kernelspec": {
   "display_name": "Python 3 (ipykernel)",
   "language": "python",
   "name": "python3"
  },
  "language_info": {
   "codemirror_mode": {
    "name": "ipython",
    "version": 3
   },
   "file_extension": ".py",
   "mimetype": "text/x-python",
   "name": "python",
   "nbconvert_exporter": "python",
   "pygments_lexer": "ipython3",
   "version": "3.9.13"
  }
 },
 "nbformat": 4,
 "nbformat_minor": 2
}
