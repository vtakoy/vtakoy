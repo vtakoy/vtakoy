{
 "cells": [
  {
   "cell_type": "markdown",
   "id": "49a9ab77",
   "metadata": {},
   "source": [
    "Задача 1.1: Реализовать нейрон на базе пороговой функции"
   ]
  },
  {
   "cell_type": "code",
   "execution_count": 8,
   "id": "cb61a539",
   "metadata": {},
   "outputs": [
    {
     "name": "stdout",
     "output_type": "stream",
     "text": [
      "[0 0 1 1 1]\n"
     ]
    }
   ],
   "source": [
    "import numpy as np\n",
    "\n",
    "def threshold_function(x):\n",
    "    return np.where(x >= 0.5, 1, 0)\n",
    "\n",
    "# Пример использования\n",
    "x_values = np.array([-1, 0, 0.5, 1, 2])\n",
    "output = threshold_function(x_values)\n",
    "print(output)\n"
   ]
  },
  {
   "cell_type": "markdown",
   "id": "d4afe123-7170-4607-85c8-0f84ffc9b71a",
   "metadata": {},
   "source": [
    "Задача 1.2: Реализовать нейрон на базе функции Softsign"
   ]
  },
  {
   "cell_type": "code",
   "execution_count": 9,
   "id": "c9694fe7-ee2e-4114-a9ba-99395033bb57",
   "metadata": {},
   "outputs": [
    {
     "name": "stdout",
     "output_type": "stream",
     "text": [
      "[-0.66666667 -0.5         0.          0.5         0.66666667]\n"
     ]
    }
   ],
   "source": [
    "def softsign(x):\n",
    "    return x / (1 + np.abs(x))\n",
    "\n",
    "# Пример использования\n",
    "x_values = np.array([-2, -1, 0, 1, 2])\n",
    "output = softsign(x_values)\n",
    "print(output)\n"
   ]
  },
  {
   "cell_type": "markdown",
   "id": "cab32530-2a8c-4a98-b9e7-17e3159b0b2d",
   "metadata": {},
   "source": [
    "Задача 1.3: Реализовать 3 слоя нейронов (по 2 нейрона в каждом) с использованием Softsign"
   ]
  },
  {
   "cell_type": "code",
   "execution_count": 10,
   "id": "cf296382-450f-493c-8fad-d1457546fa9f",
   "metadata": {},
   "outputs": [
    {
     "name": "stdout",
     "output_type": "stream",
     "text": [
      "[[-0.07583187  0.02110017]]\n"
     ]
    }
   ],
   "source": [
    "class NeuralLayer:\n",
    "    def __init__(self, n_inputs, n_neurons):\n",
    "        self.weights = np.random.randn(n_inputs, n_neurons)\n",
    "        self.biases = np.zeros((1, n_neurons))\n",
    "    \n",
    "    def forward(self, inputs):\n",
    "        return softsign(np.dot(inputs, self.weights) + self.biases)\n",
    "\n",
    "# Создаем три слоя\n",
    "layer1 = NeuralLayer(2, 2)\n",
    "layer2 = NeuralLayer(2, 2)\n",
    "layer3 = NeuralLayer(2, 2)\n",
    "\n",
    "# Пример входных данных (2 входа)\n",
    "input_data = np.array([[1, 2]])\n",
    "\n",
    "# Пропускаем данные через сеть\n",
    "output1 = layer1.forward(input_data)\n",
    "output2 = layer2.forward(output1)\n",
    "output3 = layer3.forward(output2)\n",
    "\n",
    "print(output3)\n"
   ]
  },
  {
   "cell_type": "markdown",
   "id": "ddadaf5a-6f4e-4909-96dd-b5f7ae0e9a50",
   "metadata": {},
   "source": [
    "Задача 1.4: Определение пола с другим нормированием и альтернативной функцией активации"
   ]
  },
  {
   "cell_type": "code",
   "execution_count": 11,
   "id": "cf32cb22-09a2-4df4-b1a4-fc77cf0ec54b",
   "metadata": {},
   "outputs": [
    {
     "name": "stdout",
     "output_type": "stream",
     "text": [
      "[0.  0.  0.5]\n"
     ]
    }
   ],
   "source": [
    "def normalize_data(data):\n",
    "    mean_value = np.mean(data)\n",
    "    return (data - mean_value) / mean_value\n",
    "\n",
    "def relu(x):\n",
    "    return np.maximum(0, x)\n",
    "\n",
    "# Пример данных\n",
    "data = np.array([50, 100, 150])\n",
    "normalized_data = normalize_data(data)\n",
    "output = relu(normalized_data)\n",
    "print(output)\n"
   ]
  },
  {
   "cell_type": "markdown",
   "id": "c831518f-2fe4-4c5c-ab4c-72eafbc4ac9f",
   "metadata": {},
   "source": [
    "Задача 1.5: Решение уравнения через градиентный спуск "
   ]
  },
  {
   "cell_type": "code",
   "execution_count": 12,
   "id": "967600ca-47a8-4b07-91df-c62f4c319398",
   "metadata": {},
   "outputs": [
    {
     "name": "stdout",
     "output_type": "stream",
     "text": [
      "Минимальное значение функции достигается при x = -0.9999999999999998\n"
     ]
    }
   ],
   "source": [
    "def gradient_descent(learning_rate=0.1, epochs=1000):\n",
    "    x = np.random.randn()  # Случайное начальное значение\n",
    "    for i in range(epochs):\n",
    "        gradient = 2 * x + 2  # Производная функции x^2 + 2x - 6\n",
    "        x -= learning_rate * gradient\n",
    "    return x\n",
    "\n",
    "result = gradient_descent()\n",
    "print(f\"Минимальное значение функции достигается при x = {result}\")\n"
   ]
  },
  {
   "cell_type": "markdown",
   "id": "03eefb70-0101-4f1d-bc5e-77c651c60fc5",
   "metadata": {},
   "source": [
    "Задача 1.6 (дополнительно): Решение уравнения через градиентный спуск"
   ]
  },
  {
   "cell_type": "code",
   "execution_count": 13,
   "id": "59a25c87-9f47-4a18-8ebb-e212ccfe061a",
   "metadata": {},
   "outputs": [
    {
     "name": "stdout",
     "output_type": "stream",
     "text": [
      "Минимальное значение функции достигается при x = 0.8968052532744759\n"
     ]
    }
   ],
   "source": [
    "def gradient_descent_cubic(learning_rate=0.01, epochs=1000):\n",
    "    x = np.random.randn()  # Случайное начальное значение\n",
    "    for i in range(epochs):\n",
    "        gradient = 3 * x**2 + 4 * x - 6  # Производная функции x^3 + 2x^2 - 6x - 1\n",
    "        x -= learning_rate * gradient\n",
    "    return x\n",
    "\n",
    "result = gradient_descent_cubic()\n",
    "print(f\"Минимальное значение функции достигается при x = {result}\")\n"
   ]
  },
  {
   "cell_type": "code",
   "execution_count": null,
   "id": "df4daa07-3362-43e5-bfd7-1d8c5c54b3e2",
   "metadata": {},
   "outputs": [],
   "source": []
  },
  {
   "cell_type": "code",
   "execution_count": null,
   "id": "3d4d8f01-833f-4401-956e-57b885a93057",
   "metadata": {},
   "outputs": [],
   "source": []
  }
 ],
 "metadata": {
  "kernelspec": {
   "display_name": "Python 3 (ipykernel)",
   "language": "python",
   "name": "python3"
  },
  "language_info": {
   "codemirror_mode": {
    "name": "ipython",
    "version": 3
   },
   "file_extension": ".py",
   "mimetype": "text/x-python",
   "name": "python",
   "nbconvert_exporter": "python",
   "pygments_lexer": "ipython3",
   "version": "3.12.4"
  }
 },
 "nbformat": 4,
 "nbformat_minor": 5
}
