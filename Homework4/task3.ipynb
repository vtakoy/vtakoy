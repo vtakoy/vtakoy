{
 "cells": [
  {
   "cell_type": "markdown",
   "id": "49a9ab77",
   "metadata": {},
   "source": [
    "# Задание 3: Экспериментальная вероятность проверки двух деталей"
   ]
  },
  {
   "cell_type": "code",
   "execution_count": 1,
   "id": "cb61a539",
   "metadata": {},
   "outputs": [
    {
     "name": "stdout",
     "output_type": "stream",
     "text": [
      "Экспериментальная вероятность, что мастер проверит ровно две детали: 0.2309\n"
     ]
    }
   ],
   "source": [
    "import numpy as np\n",
    "\n",
    "# Параметры эксперимента\n",
    "total_parts = 10\n",
    "non_standard_parts = 3\n",
    "standard_parts = total_parts - non_standard_parts\n",
    "num_samples = 100000\n",
    "\n",
    "# Симуляция проверки деталей\n",
    "np.random.seed(42)  # фиксируем seed для воспроизводимости\n",
    "def check_parts():\n",
    "    parts = ['нестандартная'] * non_standard_parts + ['стандартная'] * standard_parts\n",
    "    np.random.shuffle(parts)\n",
    "    for i, part in enumerate(parts):\n",
    "        if part == 'стандартная':\n",
    "            return i + 1  # возвращаем количество проверенных деталей\n",
    "\n",
    "# Подсчет случаев, когда было проверено ровно 2 детали\n",
    "successful_outcomes = sum(1 for _ in range(num_samples) if check_parts() == 2)\n",
    "\n",
    "# Экспериментальная вероятность\n",
    "experimental_probability_parts = successful_outcomes / num_samples\n",
    "print(f\"Экспериментальная вероятность, что мастер проверит ровно две детали: {experimental_probability_parts}\")\n",
    "\n",
    "# Сохранение результата в файл\n",
    "output_file_path = 'C:/Users/vtako/Desktop/Project/Homework4/Экспериментальная вероятность, что мастер проверит ровно две детали.txt'\n",
    "with open(output_file_path, 'w') as file:\n",
    "    file.write(f\"Экспериментальная вероятность, что мастер проверит ровно две детали: {experimental_probability_parts}\")"
   ]
  },
  {
   "cell_type": "code",
   "execution_count": null,
   "id": "0f0c83e1-3a2e-4aa9-bf39-0b6b04af4d77",
   "metadata": {},
   "outputs": [],
   "source": []
  }
 ],
 "metadata": {
  "kernelspec": {
   "display_name": "Python 3 (ipykernel)",
   "language": "python",
   "name": "python3"
  },
  "language_info": {
   "codemirror_mode": {
    "name": "ipython",
    "version": 3
   },
   "file_extension": ".py",
   "mimetype": "text/x-python",
   "name": "python",
   "nbconvert_exporter": "python",
   "pygments_lexer": "ipython3",
   "version": "3.12.4"
  }
 },
 "nbformat": 4,
 "nbformat_minor": 5
}
