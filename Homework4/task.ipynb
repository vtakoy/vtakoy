{
 "cells": [
  {
   "cell_type": "markdown",
   "metadata": {},
   "source": [
    "# Задание 1: Химический анализ родника"
   ]
  },
  {
   "cell_type": "code",
   "execution_count": null,
   "metadata": {},
   "outputs": [],
   "source": [
    "import pandas as pd\n",
    "import re\n",
    "from IPython.display import display\n",
    "\n",
    "# Загрузка данных из файла\n",
    "file_path = 'C:/Users/vtako/Desktop/Project/Homework4/Химический анализ родника в Нескучном саду.csv'\n",
    "df = pd.read_csv(file_path, sep=';')\n",
    "\n",
    "# Функция для проверки соответствия значения нормативу\n",
    "def check_norm(value, norm):\n",
    "    if 'не более' in norm:\n",
    "        limit = float(re.findall(r\"[-+]?\\d*\\.\\d+|\\d+\", norm)[0])\n",
    "        return value <= limit, f\"не более {limit}\"\n",
    "    elif 'в пределах' in norm:\n",
    "        limits = re.findall(r\"[-+]?\\d*\\.\\d+|\\d+\", norm)\n",
    "        lower_limit = float(limits[0])\n",
    "        upper_limit = float(limits[1])\n",
    "        return lower_limit <= value <= upper_limit, f\"в пределах {lower_limit}-{upper_limit}\"\n",
    "    else:\n",
    "        return False, \"норматив неизвестен\"\n",
    "\n",
    "# Преобразование столбца \"Результат анализа\" к числовому типу там, где это возможно\n",
    "df['Результат анализа'] = pd.to_numeric(df['Результат анализа'], errors='coerce')\n",
    "\n",
    "# Создание столбца с выводами\n",
    "df['Вывод'] = df.apply(lambda row: f\"Результат анализа {row['Результат анализа']} {row['Единица измерений']} при нормативе {row['Норматив']}. \" +\n",
    "                                   (\"Т.о. результат анализа в норме.\" if check_norm(row['Результат анализа'], row['Норматив'])[0] else \"Т.о. результат анализа не в норме.\"),\n",
    "                       axis=1)\n",
    "\n",
    "# Установка столбца \"Показатель\" в качестве индексного\n",
    "df.set_index('Показатель', inplace=True)\n",
    "\n",
    "# Просмотр итогового DataFrame\n",
    "display(df)\n",
    "\n",
    "# Сохранение итогового DataFrame в файл Excel\n",
    "output_file_path = 'C:/Users/vtako/Desktop/Project/Homework4/ВЫВОДЫ Химический анализ родника в Нескучном саду.xlsx'\n",
    "df.to_excel(output_file_path)"
   ]
  },
  {
   "cell_type": "markdown",
   "metadata": {},
   "source": [
    "# Задание 2: Экспериментальная вероятность выбора трех апельсинов"
   ]
  },
  {
   "cell_type": "code",
   "execution_count": null,
   "metadata": {},
   "outputs": [],
   "source": [
    "import numpy as np\n",
    "\n",
    "# Параметры эксперимента\n",
    "total_fruits = 9\n",
    "total_oranges = 5\n",
    "total_apples = 4\n",
    "num_samples = 100000\n",
    "\n",
    "# Симуляция выборки 3 фруктов из 9\n",
    "results = np.random.choice(['апельсин'] * total_oranges + ['яблоко'] * total_apples, (num_samples, 3))\n",
    "\n",
    "# Подсчет случаев, когда все три фрукта - апельсины\n",
    "successful_outcomes = np.sum(np.all(results == 'апельсин', axis=1))\n",
    "\n",
    "# Экспериментальная вероятность\n",
    "experimental_probability_oranges = successful_outcomes / num_samples\n",
    "print(f\"Экспериментальная вероятность, что все три фрукта – апельсины: {experimental_probability_oranges}\")\n",
    "\n",
    "# Сохранение результата в файл\n",
    "output_file_path = 'C:/Users/vtako/Desktop/Project/Homework4/Экспериментальная вероятность, что все три фрукта – апельсины.txt'\n",
    "with open(output_file_path, 'w') as file:\n",
    "    file.write(f\"Экспериментальная вероятность, что все три фрукта – апельсины: {experimental_probability_oranges}\")"
   ]
  },
  {
   "cell_type": "markdown",
   "metadata": {},
   "source": [
    "# Задание 3: Экспериментальная вероятность проверки двух деталей"
   ]
  },
  {
   "cell_type": "code",
   "execution_count": null,
   "metadata": {},
   "outputs": [],
   "source": [
    "import numpy as np\n",
    "\n",
    "# Параметры эксперимента\n",
    "total_parts = 10\n",
    "non_standard_parts = 3\n",
    "standard_parts = total_parts - non_standard_parts\n",
    "num_samples = 100000\n",
    "\n",
    "# Симуляция проверки деталей\n",
    "def check_parts():\n",
    "    parts = ['нестандартная'] * non_standard_parts + ['стандартная'] * standard_parts\n",
    "    np.random.shuffle(parts)\n",
    "    for i, part in enumerate(parts):\n",
    "        if part == 'стандартная':\n",
    "            return i + 1  # возвращаем количество проверенных деталей\n",
    "\n",
    "# Подсчет случаев, когда было проверено ровно 2 детали\n",
    "successful_outcomes = sum(1 for _ in range(num_samples) if check_parts() == 2)\n",
    "\n",
    "# Экспериментальная вероятность\n",
    "experimental_probability_parts = successful_outcomes / num_samples\n",
    "print(f\"Экспериментальная вероятность, что мастер проверит ровно две детали: {experimental_probability_parts}\")\n",
    "\n",
    "# Сохранение результата в файл\n",
    "output_file_path = 'C:/Users/vtako/Desktop/Project/Homework4/Экспериментальная вероятность, что мастер проверит ровно две детали.txt'\n",
    "with open(output_file_path, 'w') as file:\n",
    "    file.write(f\"Экспериментальная вероятность, что мастер проверит ровно две детали: {experimental_probability_parts}\")"
   ]
  }
 ],
 "metadata": {
  "kernelspec": {
   "display_name": "Python 3 (ipykernel)",
   "language": "python",
   "name": "python3"
  },
  "language_info": {
   "codemirror_mode": {
    "name": "ipython",
    "version": 3
   },
   "file_extension": ".py",
   "mimetype": "text/x-python",
   "name": "python",
   "nbconvert_exporter": "python",
   "pygments_lexer": "ipython3",
   "version": "3.12.4"
  }
 },
 "nbformat": 4,
 "nbformat_minor": 5
}
