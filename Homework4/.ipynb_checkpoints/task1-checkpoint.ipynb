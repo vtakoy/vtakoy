{
 "cells": [
  {
   "cell_type": "markdown",
   "metadata": {},
   "source": [
    "# Задание 1: Химический анализ родника"
   ]
  },
  {
   "cell_type": "code",
   "execution_count": null,
   "metadata": {},
   "outputs": [],
   "source": [
    "import pandas as pd\n",
    "import re\n",
    "from IPython.display import display\n",
    "\n",
    "# Загрузка данных из файла\n",
    "file_path = 'C:/Users/vtako/Desktop/Project/Homework4/Химический анализ родника в Нескучном саду.csv'\n",
    "df = pd.read_csv(file_path, sep=';')\n",
    "\n",
    "# Функция для проверки соответствия значения нормативу\n",
    "def check_norm(value, norm):\n",
    "    if 'не более' in norm:\n",
    "        limit = float(re.findall(r\"[-+]?\\d*\\.\\d+|\\d+\", norm)[0])\n",
    "        return value <= limit, f\"не более {limit}\"\n",
    "    elif 'в пределах' in norm:\n",
    "        limits = re.findall(r\"[-+]?\\d*\\.\\d+|\\d+\", norm)\n",
    "        lower_limit = float(limits[0])\n",
    "        upper_limit = float(limits[1])\n",
    "        return lower_limit <= value <= upper_limit, f\"в пределах {lower_limit}-{upper_limit}\"\n",
    "    else:\n",
    "        return False, \"норматив неизвестен\"\n",
    "\n",
    "# Преобразование столбца \"Результат анализа\" к числовому типу там, где это возможно\n",
    "df['Результат анализа'] = pd.to_numeric(df['Результат анализа'], errors='coerce')\n",
    "\n",
    "# Создание столбца с выводами\n",
    "df['Вывод'] = df.apply(lambda row: f\"Результат анализа {row['Результат анализа']} {row['Единица измерений']} при нормативе {row['Норматив']}. \" +\n",
    "                                   (\"Т.о. результат анализа в норме.\" if check_norm(row['Результат анализа'], row['Норматив'])[0] else \"Т.о. результат анализа не в норме.\"),\n",
    "                       axis=1)\n",
    "\n",
    "# Установка столбца \"Показатель\" в качестве индексного\n",
    "df.set_index('Показатель', inplace=True)\n",
    "\n",
    "# Просмотр итогового DataFrame\n",
    "display(df)\n",
    "\n",
    "# Сохранение итогового DataFrame в файл Excel\n",
    "output_file_path = 'C:/Users/vtako/Desktop/Project/Homework4/ВЫВОДЫ Химический анализ родника в Нескучном саду.xlsx'\n",
    "df.to_excel(output_file_path)"
   ]
  }
],
 "metadata": {
  "kernelspec": {
   "display_name": "Python 3 (ipykernel)",
   "language": "python",
   "name": "python3"
  },
  "language_info": {
   "codemirror_mode": {
    "name": "ipython",
    "version": 3
   },
   "file_extension": ".py",
   "mimetype": "text/x-python",
   "name": "python",
   "nbconvert_exporter": "python",
   "pygments_lexer": "ipython3",
   "version": "3.12.4"
  }
 },
 "nbformat": 4,
 "nbformat_minor": 5
}
  
  
