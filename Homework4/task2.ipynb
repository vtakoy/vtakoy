{
 "cells": [
  {
   "cell_type": "markdown",
   "id": "49a9ab77",
   "metadata": {},
   "source": [
    "# Задание 2: Экспериментальная вероятность выбора трех апельсинов\n"
   ]
  },
  {
   "cell_type": "code",
   "execution_count": 1,
   "id": "7b2d9716",
   "metadata": {},
   "outputs": [
    {
     "name": "stdout",
     "output_type": "stream",
     "text": [
      "Экспериментальная вероятность, что все три фрукта – апельсины: 0.17128\n"
     ]
    }
   ],
   "source": [
    "import numpy as np\n",
    "\n",
    "# Параметры эксперимента\n",
    "total_fruits = 9\n",
    "total_oranges = 5\n",
    "total_apples = 4\n",
    "num_samples = 100000\n",
    "\n",
    "# Симуляция выборки 3 фруктов из 9\n",
    "np.random.seed(42)  # фиксируем seed для воспроизводимости\n",
    "results = np.random.choice(['апельсин'] * total_oranges + ['яблоко'] * total_apples, (num_samples, 3))\n",
    "\n",
    "# Подсчет случаев, когда все три фрукта - апельсины\n",
    "successful_outcomes = np.sum(np.all(results == 'апельсин', axis=1))\n",
    "\n",
    "# Экспериментальная вероятность\n",
    "experimental_probability_oranges = successful_outcomes / num_samples\n",
    "print(f\"Экспериментальная вероятность, что все три фрукта – апельсины: {experimental_probability_oranges}\")\n",
    "\n",
    "# Сохранение результата в файл\n",
    "output_file_path = 'C:/Users/vtako/Desktop/Project/Homework4/Экспериментальная вероятность, что все три фрукта – апельсины.txt'\n",
    "with open(output_file_path, 'w') as file:\n",
    "    file.write(f\"Экспериментальная вероятность, что все три фрукта – апельсины: {experimental_probability_oranges}\")"
   ]
  },
  {
   "cell_type": "code",
   "execution_count": null,
   "id": "51e334c8-c94e-4cd6-bb06-c115866a3626",
   "metadata": {},
   "outputs": [],
   "source": []
  }
 ],
 "metadata": {
  "kernelspec": {
   "display_name": "Python 3 (ipykernel)",
   "language": "python",
   "name": "python3"
  },
  "language_info": {
   "codemirror_mode": {
    "name": "ipython",
    "version": 3
   },
   "file_extension": ".py",
   "mimetype": "text/x-python",
   "name": "python",
   "nbconvert_exporter": "python",
   "pygments_lexer": "ipython3",
   "version": "3.12.4"
  }
 },
 "nbformat": 4,
 "nbformat_minor": 5
}
