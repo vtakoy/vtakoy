{
 "cells": [
  {
   "cell_type": "code",
   "execution_count": null,
   "metadata": {},
   "outputs": [],
   "source": [
    "import sqlite3\n",
    "import pandas as pd"
   ]
  },
  {
   "cell_type": "code",
   "execution_count": null,
   "metadata": {},
   "outputs": [],
   "source": [
    "con = sqlite3.connect(':memory:')\n",
    "cur = con.cursor()"
   ]
  },
  {
   "cell_type": "code",
   "execution_count": null,
   "metadata": {},
   "outputs": [],
   "source": [
    "sql_salaries = '''\n",
    "drop table if exists salaries;\n",
    "create table salaries (emp_id integer, depname varchar(20), emp varchar(20), role varchar(20), salary integer);\n",
    "insert into salaries (emp_id, depname, emp,role, salary) values (1, 'dep1','Christiano','Manager', 1000);\n",
    "insert into salaries (emp_id, depname, emp,role, salary) values (2, 'dep1','Eric','Manager', 1500);\n",
    "insert into salaries (emp_id, depname, emp,role, salary) values (3, 'dep1','Ryan','Director', 2000);\n",
    "insert into salaries (emp_id, depname, emp,role, salary) values (4, 'dep1', 'Bryan','Director',1500);\n",
    "insert into salaries (emp_id, depname, emp,role, salary) values (5, 'dep2', 'Doreen','Manager',2000);\n",
    "insert into salaries (emp_id, depname, emp,role, salary) values (6, 'dep2', 'Gabriel','Manager',3000);\n",
    "insert into salaries (emp_id, depname, emp,role, salary) values (7, 'dep2', 'Angel','Manager',2400);\n",
    "insert into salaries (emp_id, depname, emp,role, salary) values (8, 'dep2', 'Robin','Director',2700);\n",
    "insert into salaries (emp_id, depname, emp,role, salary) values (9, 'dep3','Sarah','Manager', 1900);\n",
    "insert into salaries (emp_id, depname, emp,role, salary) values (10, 'dep3', 'Peter','Manager',1700);\n",
    "'''"
   ]
  },
  {
   "cell_type": "code",
   "execution_count": null,
   "metadata": {},
   "outputs": [],
   "source": [
    "cur.executescript(sql_salaries)\n",
    "con.commit()"
   ]
  },
  {
   "cell_type": "code",
   "execution_count": null,
   "metadata": {},
   "outputs": [],
   "source": [
    "pd.read_sql(\n",
    "    '''\n",
    "SELECT *\n",
    "FROM salaries\n",
    "    ''',\n",
    "    con,\n",
    ")"
   ]
  },
  {
   "cell_type": "code",
   "execution_count": null,
   "metadata": {},
   "outputs": [],
   "source": [
    "pd.read_sql(\n",
    "    '''\n",
    "SELECT avg(salary) as 'avg'\n",
    "FROM salaries;\n",
    "    ''',\n",
    "    con,\n",
    ")"
   ]
  },
  {
   "cell_type": "code",
   "execution_count": null,
   "metadata": {},
   "outputs": [],
   "source": [
    "pd.read_sql(\n",
    "    '''\n",
    "SELECT emp_id, emp, depname, salary, avg(salary) OVER () as 'avg'\n",
    "FROM salaries;\n",
    "    ''',\n",
    "    con,\n",
    ")"
   ]
  },
  {
   "cell_type": "code",
   "execution_count": null,
   "metadata": {},
   "outputs": [],
   "source": [
    "pd.read_sql(\n",
    "    '''\n",
    "SELECT emp_id,emp, depname, salary, abs(salary - avg(salary) OVER ()) as 'diff_with_avg'\n",
    "FROM salaries;\n",
    "    ''',\n",
    "    con,\n",
    ")"
   ]
  },
  {
   "cell_type": "code",
   "execution_count": null,
   "metadata": {},
   "outputs": [],
   "source": [
    "pd.read_sql(\n",
    "    '''\n",
    "SELECT emp_id,emp, depname, salary, avg(salary) OVER (PARTITION BY depname) as 'avg_by_dept'\n",
    "FROM salaries;\n",
    "    ''',\n",
    "    con,\n",
    ")"
   ]
  },
  {
   "cell_type": "code",
   "execution_count": null,
   "metadata": {},
   "outputs": [],
   "source": [
    "pd.read_sql(\n",
    "    '''\n",
    "SELECT emp_id,emp, depname, salary, abs(salary - avg(salary) OVER (PARTITION BY depname))  as 'diff_with_avg_by_dept'\n",
    "FROM salaries;\n",
    "    ''',\n",
    "    con,\n",
    ")"
   ]
  },
  {
   "cell_type": "code",
   "execution_count": null,
   "metadata": {},
   "outputs": [],
   "source": [
    "pd.read_sql(\n",
    "    '''\n",
    "SELECT emp_id,emp, depname, salary, sum(salary) OVER () as 'sum'\n",
    "FROM salaries;\n",
    "    ''',\n",
    "    con,\n",
    ")"
   ]
  },
  {
   "cell_type": "code",
   "execution_count": null,
   "metadata": {},
   "outputs": [],
   "source": [
    "pd.read_sql(\n",
    "    '''\n",
    "SELECT emp_id,emp, depname, salary, salary*100/(sum(salary) OVER ()) as 'prc'\n",
    "FROM salaries;\n",
    "    ''',\n",
    "    con,\n",
    ")"
   ]
  },
  {
   "cell_type": "code",
   "execution_count": null,
   "metadata": {},
   "outputs": [],
   "source": [
    "pd.read_sql(\n",
    "    '''\n",
    "SELECT emp_id,emp, depname, salary, round(salary*100/(sum(salary) OVER ()),1) as 'prc'\n",
    "FROM salaries;\n",
    "    ''',\n",
    "    con,\n",
    ")"
   ]
  },
  {
   "cell_type": "code",
   "execution_count": null,
   "metadata": {},
   "outputs": [],
   "source": [
    "pd.read_sql(\n",
    "    '''\n",
    "SELECT emp_id,emp, depname, salary, cast(salary*100/(sum(salary) OVER ()) as float) as 'prc'\n",
    "FROM salaries;\n",
    "    ''',\n",
    "    con,\n",
    ")"
   ]
  },
  {
   "cell_type": "code",
   "execution_count": null,
   "metadata": {},
   "outputs": [],
   "source": [
    "pd.read_sql(\n",
    "    '''\n",
    "SELECT emp_id,emp, depname, salary, round(cast(salary as float)*100/(sum(salary) OVER ()),2) as 'prc'\n",
    "FROM salaries;\n",
    "    ''',\n",
    "    con,\n",
    ")"
   ]
  },
  {
   "cell_type": "code",
   "execution_count": null,
   "metadata": {},
   "outputs": [],
   "source": [
    "pd.read_sql(\n",
    "    '''\n",
    "SELECT emp_id,emp, depname, salary, round(salary*100/cast(sum(salary) OVER () as float),2) as 'prc'\n",
    "FROM salaries;\n",
    "    ''',\n",
    "    con,\n",
    ")"
   ]
  },
  {
   "cell_type": "code",
   "execution_count": null,
   "metadata": {},
   "outputs": [],
   "source": [
    "pd.read_sql(\n",
    "    '''\n",
    "SELECT emp_id,emp, depname, salary, round(salary*100.0/(sum(salary) OVER ()),2) as 'prc'\n",
    "FROM salaries;\n",
    "    ''',\n",
    "    con,\n",
    ")"
   ]
  },
  {
   "cell_type": "code",
   "execution_count": null,
   "metadata": {},
   "outputs": [],
   "source": [
    "pd.read_sql(\n",
    "    '''\n",
    "SELECT emp_id,emp, depname, salary, round(salary*1.0/(sum(salary) OVER ()),2) as 'prc'\n",
    "FROM salaries;\n",
    "    ''',\n",
    "    con,\n",
    ")"
   ]
  },
  {
   "cell_type": "code",
   "execution_count": null,
   "metadata": {},
   "outputs": [],
   "source": [
    "pd.read_sql(\n",
    "    '''\n",
    "SELECT 1/2\n",
    "    ''',\n",
    "    con,\n",
    ")"
   ]
  },
  {
   "cell_type": "code",
   "execution_count": null,
   "metadata": {},
   "outputs": [],
   "source": [
    "pd.read_sql(\n",
    "    '''\n",
    "SELECT 1.0/2\n",
    "    ''',\n",
    "    con,\n",
    ")"
   ]
  },
  {
   "cell_type": "code",
   "execution_count": null,
   "metadata": {},
   "outputs": [],
   "source": [
    "pd.read_sql(\n",
    "    '''\n",
    "SELECT 1/2.0\n",
    "    ''',\n",
    "    con,\n",
    ")"
   ]
  },
  {
   "cell_type": "code",
   "execution_count": null,
   "metadata": {},
   "outputs": [],
   "source": [
    "pd.read_sql(\n",
    "    '''\n",
    "SELECT emp_id,emp, depname, salary, sum(salary) OVER (PARTITION BY depname) as 'sum'\n",
    "FROM salaries;\n",
    "    ''',\n",
    "    con,\n",
    ")"
   ]
  },
  {
   "cell_type": "code",
   "execution_count": null,
   "metadata": {},
   "outputs": [],
   "source": [
    "pd.read_sql(\n",
    "    '''\n",
    "SELECT emp_id,emp, depname, salary, sum(salary) OVER (PARTITION BY depname ORDER BY salary) as 'sum'\n",
    "FROM salaries;\n",
    "    ''',\n",
    "    con,\n",
    ")"
   ]
  },
  {
   "cell_type": "code",
   "execution_count": null,
   "metadata": {},
   "outputs": [],
   "source": [
    "pd.read_sql(\n",
    "    '''\n",
    "SELECT emp_id,emp, depname, salary,\n",
    "sum(salary) OVER (PARTITION BY depname ORDER BY salary ROWS BETWEEN CURRENT ROW AND 1 FOLLOWING) as 'sum'\n",
    "FROM salaries;\n",
    "    ''',\n",
    "    con,\n",
    ")"
   ]
  },
  {
   "cell_type": "code",
   "execution_count": null,
   "metadata": {},
   "outputs": [],
   "source": [
    "pd.read_sql(\n",
    "    '''\n",
    "SELECT emp_id, emp,depname, salary, row_number() OVER (PARTITION BY depname) row_num_by_dept\n",
    "FROM salaries;\n",
    "    ''',\n",
    "    con,\n",
    ")"
   ]
  },
  {
   "cell_type": "code",
   "execution_count": null,
   "metadata": {},
   "outputs": [],
   "source": [
    "pd.read_sql(\n",
    "    '''\n",
    "SELECT emp_id, emp,depname, salary, row_number() OVER (PARTITION BY depname ORDER BY salary DESC) row_num_by_dept\n",
    "FROM salaries\n",
    "    ''',\n",
    "    con,\n",
    ")"
   ]
  },
  {
   "cell_type": "code",
   "execution_count": null,
   "metadata": {},
   "outputs": [],
   "source": [
    "pd.read_sql(\n",
    "    '''\n",
    "SELECT emp_id, emp,depname, salary, rank() OVER (PARTITION BY depname ORDER BY salary DESC) rank_by_dept\n",
    "FROM salaries\n",
    "    ''',\n",
    "    con,\n",
    ")"
   ]
  },
  {
   "cell_type": "code",
   "execution_count": null,
   "metadata": {},
   "outputs": [],
   "source": [
    "pd.read_sql(\n",
    "    '''\n",
    "SELECT emp_id, emp,depname, salary, dense_rank() OVER (PARTITION BY depname ORDER BY salary DESC) rank_by_dept\n",
    "FROM salaries\n",
    "    ''',\n",
    "    con,\n",
    ")"
   ]
  },
  {
   "cell_type": "code",
   "execution_count": null,
   "metadata": {},
   "outputs": [],
   "source": [
    "pd.read_sql(\n",
    "    '''\n",
    "select * from (\n",
    "SELECT emp_id, emp,depname, salary, row_number() OVER (PARTITION BY depname ORDER BY salary DESC) row_num_by_dept\n",
    "FROM salaries\n",
    ") r where r.row_num_by_dept = 1\n",
    "    ''',\n",
    "    con,\n",
    ")"
   ]
  },
  {
   "cell_type": "code",
   "execution_count": null,
   "metadata": {},
   "outputs": [],
   "source": [
    "pd.read_sql(\n",
    "    '''\n",
    "with ranks as (\n",
    "SELECT emp_id, emp,depname, salary,\n",
    "row_number() OVER (PARTITION BY depname ORDER BY salary DESC) row_num_by_dept\n",
    "FROM salaries\n",
    ")\n",
    "\n",
    "select * from ranks where row_num_by_dept = 1\n",
    "    ''',\n",
    "    con,\n",
    ")"
   ]
  },
  {
   "cell_type": "code",
   "execution_count": null,
   "metadata": {},
   "outputs": [],
   "source": [
    "pd.read_sql(\n",
    "    '''\n",
    "with ranks as (\n",
    "SELECT emp_id, emp,depname, salary,\n",
    "row_number() OVER (PARTITION BY depname ORDER BY salary DESC) row_num_by_dept\n",
    "FROM salaries\n",
    ") \n",
    "select * from ranks where row_num_by_dept = 1\n",
    "union all\n",
    "select * from ranks where row_num_by_dept = 2\n",
    "union all\n",
    "select * from ranks where row_num_by_dept = 3\n",
    "    ''',\n",
    "    con,\n",
    ")"
   ]
  },
  {
   "cell_type": "code",
   "execution_count": null,
   "metadata": {},
   "outputs": [],
   "source": [
    "pd.read_sql(\n",
    "    '''\n",
    "SELECT emp_id, emp,depname, salary,NTILE(5) OVER(ORDER BY salary DESC) AS 'NTILE' \n",
    "FROM salaries\n",
    "    ''',\n",
    "    con,\n",
    ")"
   ]
  },
  {
   "cell_type": "code",
   "execution_count": null,
   "metadata": {},
   "outputs": [],
   "source": [
    "pd.read_sql(\n",
    "    '''\n",
    "SELECT emp_id, emp,depname, salary,LAG(salary) OVER(PARTITION BY depname ORDER BY salary DESC) AS 'LAG' \n",
    "FROM salaries\n",
    "    ''',\n",
    "    con,\n",
    ")"
   ]
  },
  {
   "cell_type": "code",
   "execution_count": null,
   "metadata": {},
   "outputs": [],
   "source": [
    "pd.read_sql(\n",
    "    '''\n",
    "SELECT emp_id, emp,depname, salary,LEAD(salary) OVER(PARTITION BY depname ORDER BY salary DESC) AS 'LEAD' \n",
    "FROM salaries\n",
    "    ''',\n",
    "    con,\n",
    ")"
   ]
  },
  {
   "cell_type": "code",
   "execution_count": null,
   "metadata": {},
   "outputs": [],
   "source": [
    "pd.read_sql(\n",
    "    '''\n",
    "SELECT emp_id, emp,depname, salary,FIRST_VALUE(salary) OVER(PARTITION BY depname) AS 'FIRST_VALUE' \n",
    "FROM salaries\n",
    "    ''',\n",
    "    con,\n",
    ")"
   ]
  },
  {
   "cell_type": "code",
   "execution_count": null,
   "metadata": {},
   "outputs": [],
   "source": [
    "pd.read_sql(\n",
    "    '''\n",
    "SELECT emp_id, emp,depname, salary,LAST_VALUE(salary) OVER(PARTITION BY depname) AS 'LAST_VALUE' \n",
    "FROM salaries\n",
    "    ''',\n",
    "    con,\n",
    ")"
   ]
  },
  {
   "cell_type": "code",
   "execution_count": null,
   "metadata": {},
   "outputs": [],
   "source": [
    "pd.read_sql(\n",
    "    '''\n",
    "SELECT emp_id, emp,depname, salary,LAST_VALUE(salary) OVER(PARTITION BY depname ORDER BY salary) AS 'LAST_VALUE' \n",
    "FROM salaries\n",
    "    ''',\n",
    "    con,\n",
    ")"
   ]
  },
  {
   "cell_type": "code",
   "execution_count": null,
   "metadata": {},
   "outputs": [],
   "source": [
    "pd.read_sql(\n",
    "    '''\n",
    "SELECT emp_id, emp,depname, salary,LAST_VALUE(salary) OVER(PARTITION BY depname ORDER BY salary\n",
    "ROWS BETWEEN UNBOUNDED PRECEDING AND UNBOUNDED FOLLOWING\n",
    ") AS 'LAST_VALUE' \n",
    "FROM salaries\n",
    "    ''',\n",
    "    con,\n",
    ")"
   ]
  },
  {
   "cell_type": "code",
   "execution_count": null,
   "metadata": {},
   "outputs": [],
   "source": []
  },
  {
   "cell_type": "markdown",
   "metadata": {},
   "source": [
    "1. Какую часть зарплат от общей суммы получают менеждеры, а какую директора?"
   ]
  },
  {
   "cell_type": "markdown",
   "metadata": {},
   "source": [
    "2. На каком месте по величине зарплаты находятся сотрудники, у которых первая буква в имени 'R'? "
   ]
  },
  {
   "cell_type": "markdown",
   "metadata": {},
   "source": [
    "3. Выведите процент менеджеров и директоров по каждому из департаментов."
   ]
  },
  {
   "cell_type": "markdown",
   "metadata": {},
   "source": [
    "4. Выведите среднюю зарплату по 1 департаменту, а также по 2 и 3 совместно."
   ]
  },
  {
   "cell_type": "markdown",
   "metadata": {},
   "source": [
    "5. Какой процент от суммы зарплат по всех организации получают 10% сотрудников с самыми большими зарплатами? 20%?30%?"
   ]
  },
  {
   "cell_type": "code",
   "execution_count": null,
   "metadata": {},
   "outputs": [],
   "source": []
  }
 ],
 "metadata": {
  "kernelspec": {
   "display_name": "Python 3 (ipykernel)",
   "language": "python",
   "name": "python3"
  },
  "language_info": {
   "codemirror_mode": {
    "name": "ipython",
    "version": 3
   },
   "file_extension": ".py",
   "mimetype": "text/x-python",
   "name": "python",
   "nbconvert_exporter": "python",
   "pygments_lexer": "ipython3",
   "version": "3.12.4"
  }
 },
 "nbformat": 4,
 "nbformat_minor": 4
}
